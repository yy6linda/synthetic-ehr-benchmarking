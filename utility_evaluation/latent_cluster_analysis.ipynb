{
 "cells": [
  {
   "cell_type": "code",
   "execution_count": 1,
   "metadata": {},
   "outputs": [],
   "source": [
    "import numpy as np\n",
    "import pandas as pd\n",
    "from numpy import linalg as LA\n",
    "import sklearn.preprocessing as preprocessing\n",
    "from sklearn.cluster import KMeans\n",
    "from sklearn import metrics\n",
    "import matplotlib.pyplot as plt\n",
    "from sklearn.decomposition import PCA\n",
    "# from MulticoreTSNE import MulticoreTSNE as TSNE\n",
    "import math\n",
    "from sklearn.metrics import silhouette_score\n",
    "from sklearn.metrics import pairwise_distances"
   ]
  },
  {
   "cell_type": "markdown",
   "metadata": {},
   "source": [
    "# 1. import the real and the corresponding synthetic data"
   ]
  },
  {
   "cell_type": "code",
   "execution_count": 2,
   "metadata": {},
   "outputs": [],
   "source": [
    "train_data = np.load('train_raw_correct.npy')\n",
    "real_cor = np.corrcoef(np.transpose(train_data))\n",
    "\n",
    "RUN_list = [1,2,3]\n",
    "\n",
    "syn_data_emrwgan_list = []\n",
    "syn_data_dpgan_list = []\n",
    "syn_data_baseline_list = []\n",
    "syn_data_medbgan_list = []\n",
    "syn_data_medgan_list = []\n",
    "syn_data_medwgan_list = []\n",
    "\n",
    "for run in RUN_list:\n",
    "    syn_data_emrwgan_list.append(np.transpose(np.load('./syn_emrwgan_'  + str(run) + '.npy')))\n",
    "    syn_data_dpgan_list.append(np.transpose(np.load('./syn_dpgan_'  + str(run) + '.npy')))\n",
    "    syn_data_baseline_list.append(np.transpose(np.load('./syn_baseline_'  + str(run) + '.npy')))\n",
    "    syn_data_medbgan_list.append(np.transpose(np.load('./syn_medbgan_'  + str(run) + '.npy')))\n",
    "    syn_data_medgan_list.append(np.transpose(np.load('./syn_medgan_'  + str(run) + '.npy')))\n",
    "    syn_data_medwgan_list.append(np.transpose(np.load('./syn_medwgan_'  + str(run) + '.npy')))"
   ]
  },
  {
   "cell_type": "markdown",
   "metadata": {},
   "source": [
    "# 2. compute results for latent cluster analysis"
   ]
  },
  {
   "cell_type": "code",
   "execution_count": 3,
   "metadata": {},
   "outputs": [],
   "source": [
    "min_max_scaler = preprocessing.MinMaxScaler()\n",
    "train_data_df = pd.DataFrame(train_data)\n",
    "train_data_df.loc[:,[2588,2589,2590,2591,2592,2593,2594,2595]] = min_max_scaler.fit_transform(train_data_df[[2588,2589,2590,2591,2592,2593,2594,2595]].values)\n",
    "NUM_C = 3 ## the number of clusters which has been optimized\n"
   ]
  },
  {
   "cell_type": "code",
   "execution_count": 4,
   "metadata": {},
   "outputs": [
    {
     "name": "stdout",
     "output_type": "stream",
     "text": [
      "-2.485187662302252\n",
      "-2.4865157687695096\n",
      "-2.4841413085706368\n"
     ]
    }
   ],
   "source": [
    "## baseline\n",
    "for matrix in syn_data_baseline_list:\n",
    "    matrix_df = pd.DataFrame(np.transpose(matrix))\n",
    "    matrix_df.loc[:,[2588,2589,2590,2591,2592,2593,2594,2595]] = min_max_scaler.fit_transform(matrix_df[[2588,2589,2590,2591,2592,2593,2594,2595]].values)\n",
    "    mixed_data = np.concatenate((train_data_df.values,matrix_df.values), axis = 0)\n",
    "    pca = PCA()\n",
    "    pca_result = pca.fit_transform(mixed_data)\n",
    "    sum_diag = np.sum(pca.explained_variance_ratio_)\n",
    "    i = 1\n",
    "    while  np.sum(pca.explained_variance_ratio_[:i]) < 0.8: # ensure the explained variance in the system is greater than 0.8\n",
    "        i += 1\n",
    "#     print(i, np.sum(pca.explained_variance_ratio_[:i])/np.sum(pca.explained_variance_ratio_))\n",
    "    pca = PCA(n_components=i)\n",
    "    pca_result = pca.fit_transform(mixed_data)\n",
    "    \n",
    "    kmeans_model = KMeans(n_clusters=NUM_C).fit(pca_result)\n",
    "    cluster_aff = kmeans_model.labels_.tolist()\n",
    "    real_syn_label = [1]*len(train_data_df.values) + [0]*len(matrix_df.values)\n",
    "    \n",
    "    cluster_score_sum = 0\n",
    "    for label in range(NUM_C):\n",
    "        indices_label = [i for i in range(len(cluster_aff)) if cluster_aff[i] == label]\n",
    "        real_syn_for_label = [real_syn_label[i] for i in indices_label]\n",
    "        ratio = np.sum(real_syn_for_label)/len(real_syn_for_label)\n",
    "        cluster_score_sum += (ratio - 0.5)**2\n",
    "    log_cluster_score = math.log2(cluster_score_sum/NUM_C)\n",
    "    print(log_cluster_score)\n",
    "\n",
    "    "
   ]
  },
  {
   "cell_type": "code",
   "execution_count": 5,
   "metadata": {},
   "outputs": [
    {
     "name": "stdout",
     "output_type": "stream",
     "text": [
      "-2.5921804769296584\n",
      "-2.531404379576881\n",
      "-6.849002446050452\n"
     ]
    }
   ],
   "source": [
    "## medgan\n",
    "for matrix in syn_data_medgan_list:\n",
    "    matrix_df = pd.DataFrame(np.transpose(matrix))\n",
    "    matrix_df.loc[:,[2588,2589,2590,2591,2592,2593,2594,2595]] = min_max_scaler.fit_transform(matrix_df[[2588,2589,2590,2591,2592,2593,2594,2595]].values)\n",
    "    mixed_data = np.concatenate((train_data_df.values,matrix_df.values), axis = 0)\n",
    "    pca = PCA()\n",
    "    pca_result = pca.fit_transform(mixed_data)\n",
    "    sum_diag = np.sum(pca.explained_variance_ratio_)\n",
    "    i = 1\n",
    "    while  np.sum(pca.explained_variance_ratio_[:i]) < 0.8:\n",
    "        i += 1\n",
    "#     print(i, np.sum(pca.explained_variance_ratio_[:i])/np.sum(pca.explained_variance_ratio_))\n",
    "    pca = PCA(n_components=i)\n",
    "    pca_result = pca.fit_transform(mixed_data)\n",
    "    \n",
    "    kmeans_model = KMeans(n_clusters=NUM_C).fit(pca_result)\n",
    "    kmeans_model = KMeans(n_clusters=NUM_C).fit(pca_result)\n",
    "    cluster_aff = kmeans_model.labels_.tolist()\n",
    "    real_syn_label = [1]*len(train_data_df.values) + [0]*len(matrix_df.values)\n",
    "    \n",
    "    cluster_score_sum = 0\n",
    "    for label in range(NUM_C):\n",
    "        indices_label = [i for i in range(len(cluster_aff)) if cluster_aff[i] == label]\n",
    "        real_syn_for_label = [real_syn_label[i] for i in indices_label]\n",
    "        ratio = np.sum(real_syn_for_label)/len(real_syn_for_label)\n",
    "        cluster_score_sum += (ratio - 0.5)**2\n",
    "    log_cluster_score = math.log2(cluster_score_sum/NUM_C)\n",
    "    print(log_cluster_score)"
   ]
  },
  {
   "cell_type": "code",
   "execution_count": 6,
   "metadata": {},
   "outputs": [
    {
     "name": "stdout",
     "output_type": "stream",
     "text": [
      "-3.873172798339307\n",
      "-12.43099074418064\n",
      "-8.895436991793513\n"
     ]
    }
   ],
   "source": [
    "## medbgan\n",
    "for matrix in syn_data_medbgan_list:\n",
    "    matrix_df = pd.DataFrame(np.transpose(matrix))\n",
    "    matrix_df.loc[:,[2588,2589,2590,2591,2592,2593,2594,2595]] = min_max_scaler.fit_transform(matrix_df[[2588,2589,2590,2591,2592,2593,2594,2595]].values)\n",
    "    mixed_data = np.concatenate((train_data_df.values,matrix_df.values), axis = 0)\n",
    "    pca = PCA()\n",
    "    pca_result = pca.fit_transform(mixed_data)\n",
    "    sum_diag = np.sum(pca.explained_variance_ratio_)\n",
    "    i = 1\n",
    "    while  np.sum(pca.explained_variance_ratio_[:i]) < 0.8:\n",
    "        i += 1\n",
    "#     print(i, np.sum(pca.explained_variance_ratio_[:i])/np.sum(pca.explained_variance_ratio_))\n",
    "    pca = PCA(n_components=i)\n",
    "    pca_result = pca.fit_transform(mixed_data)\n",
    "    \n",
    "    kmeans_model = KMeans(n_clusters=NUM_C).fit(pca_result)\n",
    "    cluster_aff = kmeans_model.labels_.tolist()\n",
    "    real_syn_label = [1]*len(train_data_df.values) + [0]*len(matrix_df.values)\n",
    "    \n",
    "    cluster_score_sum = 0\n",
    "    for label in range(NUM_C):\n",
    "        indices_label = [i for i in range(len(cluster_aff)) if cluster_aff[i] == label]\n",
    "        real_syn_for_label = [real_syn_label[i] for i in indices_label]\n",
    "        ratio = np.sum(real_syn_for_label)/len(real_syn_for_label)\n",
    "        cluster_score_sum += (ratio - 0.5)**2\n",
    "    log_cluster_score = math.log2(cluster_score_sum/NUM_C)\n",
    "    print(log_cluster_score)"
   ]
  },
  {
   "cell_type": "code",
   "execution_count": 7,
   "metadata": {},
   "outputs": [
    {
     "name": "stdout",
     "output_type": "stream",
     "text": [
      "-16.77139132419983\n",
      "-12.142128349814652\n",
      "-9.343728694930215\n"
     ]
    }
   ],
   "source": [
    "## emrwgan\n",
    "for matrix in syn_data_emrwgan_list:\n",
    "    matrix_df = pd.DataFrame(np.transpose(matrix))\n",
    "    matrix_df.loc[:,[2588,2589,2590,2591,2592,2593,2594,2595]] = min_max_scaler.fit_transform(matrix_df[[2588,2589,2590,2591,2592,2593,2594,2595]].values)\n",
    "    mixed_data = np.concatenate((train_data_df.values,matrix_df.values), axis = 0)\n",
    "    pca = PCA()\n",
    "    pca_result = pca.fit_transform(mixed_data)\n",
    "    sum_diag = np.sum(pca.explained_variance_ratio_)\n",
    "    i = 1\n",
    "    while  np.sum(pca.explained_variance_ratio_[:i]) < 0.8:\n",
    "        i += 1\n",
    "#     print(i, np.sum(pca.explained_variance_ratio_[:i])/np.sum(pca.explained_variance_ratio_))\n",
    "    pca = PCA(n_components=i)\n",
    "    pca_result = pca.fit_transform(mixed_data)\n",
    "    \n",
    "    kmeans_model = KMeans(n_clusters=NUM_C).fit(pca_result)\n",
    "    cluster_aff = kmeans_model.labels_.tolist()\n",
    "    real_syn_label = [1]*len(train_data_df.values) + [0]*len(matrix_df.values)\n",
    "    \n",
    "    cluster_score_sum = 0\n",
    "    for label in range(NUM_C):\n",
    "        indices_label = [i for i in range(len(cluster_aff)) if cluster_aff[i] == label]\n",
    "        real_syn_for_label = [real_syn_label[i] for i in indices_label]\n",
    "        ratio = np.sum(real_syn_for_label)/len(real_syn_for_label)\n",
    "        cluster_score_sum += (ratio - 0.5)**2\n",
    "    log_cluster_score = math.log2(cluster_score_sum/NUM_C)\n",
    "    print(log_cluster_score)"
   ]
  },
  {
   "cell_type": "code",
   "execution_count": 8,
   "metadata": {},
   "outputs": [
    {
     "name": "stdout",
     "output_type": "stream",
     "text": [
      "-10.540151486272386\n",
      "-10.0664187550477\n",
      "-11.592408377772582\n"
     ]
    }
   ],
   "source": [
    "## medwgan\n",
    "for matrix in syn_data_medwgan_list:\n",
    "    matrix_df = pd.DataFrame(np.transpose(matrix))\n",
    "    matrix_df.loc[:,[2588,2589,2590,2591,2592,2593,2594,2595]] = min_max_scaler.fit_transform(matrix_df[[2588,2589,2590,2591,2592,2593,2594,2595]].values)\n",
    "    mixed_data = np.concatenate((train_data_df.values,matrix_df.values), axis = 0)\n",
    "    pca = PCA()\n",
    "    pca_result = pca.fit_transform(mixed_data)\n",
    "    sum_diag = np.sum(pca.explained_variance_ratio_)\n",
    "    i = 1\n",
    "    while  np.sum(pca.explained_variance_ratio_[:i]) < 0.8:\n",
    "        i += 1\n",
    "#     print(i, np.sum(pca.explained_variance_ratio_[:i])/np.sum(pca.explained_variance_ratio_))\n",
    "    pca = PCA(n_components=i)\n",
    "    pca_result = pca.fit_transform(mixed_data)\n",
    "    \n",
    "    kmeans_model = KMeans(n_clusters=NUM_C).fit(pca_result)\n",
    "    cluster_aff = kmeans_model.labels_.tolist()\n",
    "    real_syn_label = [1]*len(train_data_df.values) + [0]*len(matrix_df.values)\n",
    "    \n",
    "    cluster_score_sum = 0\n",
    "    for label in range(NUM_C):\n",
    "        indices_label = [i for i in range(len(cluster_aff)) if cluster_aff[i] == label]\n",
    "        real_syn_for_label = [real_syn_label[i] for i in indices_label]\n",
    "        ratio = np.sum(real_syn_for_label)/len(real_syn_for_label)\n",
    "        cluster_score_sum += (ratio - 0.5)**2\n",
    "    log_cluster_score = math.log2(cluster_score_sum/NUM_C)\n",
    "    print(log_cluster_score)"
   ]
  },
  {
   "cell_type": "code",
   "execution_count": 9,
   "metadata": {},
   "outputs": [
    {
     "name": "stdout",
     "output_type": "stream",
     "text": [
      "-2.6811525107485115\n",
      "-7.6239043090091485\n",
      "-6.1323426427150425\n"
     ]
    }
   ],
   "source": [
    "## dpgan\n",
    "for matrix in syn_data_dpgan_list:\n",
    "    matrix_df = pd.DataFrame(np.transpose(matrix))\n",
    "    matrix_df.loc[:,[2588,2589,2590,2591,2592,2593,2594,2595]] = min_max_scaler.fit_transform(matrix_df[[2588,2589,2590,2591,2592,2593,2594,2595]].values)\n",
    "    mixed_data = np.concatenate((train_data_df.values,matrix_df.values), axis = 0)\n",
    "    pca = PCA()\n",
    "    pca_result = pca.fit_transform(mixed_data)\n",
    "    sum_diag = np.sum(pca.explained_variance_ratio_)\n",
    "    i = 1\n",
    "    while  np.sum(pca.explained_variance_ratio_[:i]) < 0.8:\n",
    "        i += 1\n",
    "#     print(i, np.sum(pca.explained_variance_ratio_[:i])/np.sum(pca.explained_variance_ratio_))\n",
    "    pca = PCA(n_components=i)\n",
    "    pca_result = pca.fit_transform(mixed_data)\n",
    "    \n",
    "    kmeans_model = KMeans(n_clusters=NUM_C).fit(pca_result)\n",
    "    cluster_aff = kmeans_model.labels_.tolist()\n",
    "    real_syn_label = [1]*len(train_data_df.values) + [0]*len(matrix_df.values)\n",
    "    \n",
    "    cluster_score_sum = 0\n",
    "    for label in range(NUM_C):\n",
    "        indices_label = [i for i in range(len(cluster_aff)) if cluster_aff[i] == label]\n",
    "        real_syn_for_label = [real_syn_label[i] for i in indices_label]\n",
    "        ratio = np.sum(real_syn_for_label)/len(real_syn_for_label)\n",
    "        cluster_score_sum += (ratio - 0.5)**2\n",
    "    log_cluster_score = math.log2(cluster_score_sum/NUM_C)\n",
    "    print(log_cluster_score)"
   ]
  },
  {
   "cell_type": "code",
   "execution_count": 76,
   "metadata": {},
   "outputs": [],
   "source": []
  },
  {
   "cell_type": "code",
   "execution_count": null,
   "metadata": {},
   "outputs": [],
   "source": []
  }
 ],
 "metadata": {
  "kernelspec": {
   "display_name": "Python 3",
   "language": "python",
   "name": "python3"
  },
  "language_info": {
   "codemirror_mode": {
    "name": "ipython",
    "version": 3
   },
   "file_extension": ".py",
   "mimetype": "text/x-python",
   "name": "python",
   "nbconvert_exporter": "python",
   "pygments_lexer": "ipython3",
   "version": "3.7.13"
  }
 },
 "nbformat": 4,
 "nbformat_minor": 2
}
