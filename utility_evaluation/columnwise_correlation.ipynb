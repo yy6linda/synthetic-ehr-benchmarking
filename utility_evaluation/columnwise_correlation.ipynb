{
 "cells": [
  {
   "cell_type": "code",
   "execution_count": 1,
   "metadata": {},
   "outputs": [],
   "source": [
    "import numpy as np\n",
    "import pandas as pd\n",
    "from numpy import linalg as LA\n",
    "import sklearn.preprocessing as preprocessing\n",
    "from sklearn.cluster import KMeans\n",
    "from sklearn import metrics\n",
    "import matplotlib.pyplot as plt\n",
    "from sklearn.decomposition import PCA\n",
    "import seaborn as sns\n",
    "from MulticoreTSNE import MulticoreTSNE as TSNE\n",
    "import math\n"
   ]
  },
  {
   "cell_type": "markdown",
   "metadata": {},
   "source": [
    "# 1. import the real and the corresponding synthetic data"
   ]
  },
  {
   "cell_type": "code",
   "execution_count": 2,
   "metadata": {},
   "outputs": [],
   "source": [
    "train_data = np.load('train_raw_correct.npy')\n",
    "real_cor = np.corrcoef(np.transpose(train_data))\n",
    "RUN_list = [1,2,3]\n",
    "\n",
    "syn_data_emrwgan_list = []\n",
    "syn_data_dpgan_list = []\n",
    "syn_data_baseline_list = []\n",
    "syn_data_medbgan_list = []\n",
    "syn_data_medgan_list = []\n",
    "syn_data_medwgan_list = []\n",
    "\n",
    "for run in RUN_list:\n",
    "    syn_data_emrwgan_list.append(np.transpose(np.load('./syn_emrwgan_'  + str(run) + '.npy')))\n",
    "    syn_data_dpgan_list.append(np.transpose(np.load('./syn_dpgan_'  + str(run) + '.npy')))\n",
    "    syn_data_baseline_list.append(np.transpose(np.load('./syn_baseline_'  + str(run) + '.npy')))\n",
    "    syn_data_medbgan_list.append(np.transpose(np.load('./syn_medbgan_'  + str(run) + '.npy')))\n",
    "    syn_data_medgan_list.append(np.transpose(np.load('./syn_medgan_'  + str(run) + '.npy')))\n",
    "    syn_data_medwgan_list.append(np.transpose(np.load('./syn_medwgan_'  + str(run) + '.npy')))"
   ]
  },
  {
   "cell_type": "markdown",
   "metadata": {},
   "source": [
    "# 2. compute column-wise correlation difference"
   ]
  },
  {
   "cell_type": "code",
   "execution_count": 3,
   "metadata": {},
   "outputs": [
    {
     "name": "stdout",
     "output_type": "stream",
     "text": [
      "Column-wise correlation difference: \n",
      "\n",
      "20.277045562376777\n",
      "20.275292706815936\n",
      "20.275934404786927\n"
     ]
    }
   ],
   "source": [
    "## baseline\n",
    "print(\"Column-wise correlation difference: \\n\")\n",
    "for matrix in syn_data_baseline_list:\n",
    "    np.random.seed(0)\n",
    "    noise_matrix = (np.random.rand(len(matrix),len(matrix[0])) - 1) / 100000000    \n",
    "    syn_cor = np.corrcoef(matrix + noise_matrix)\n",
    "    print(LA.norm(real_cor - syn_cor, 'fro') / 2596 / 2596 * 1000 * 1000)\n"
   ]
  },
  {
   "cell_type": "code",
   "execution_count": 4,
   "metadata": {},
   "outputs": [
    {
     "name": "stdout",
     "output_type": "stream",
     "text": [
      "Column-wise correlation difference: \n",
      "\n",
      "19.521554122671375\n",
      "19.137965832072613\n",
      "18.49973894397896\n"
     ]
    }
   ],
   "source": [
    "## medgan\n",
    "print(\"Column-wise correlation difference: \\n\")\n",
    "for matrix in syn_data_medgan_list:\n",
    "    np.random.seed(0)\n",
    "    noise_matrix = (np.random.rand(len(matrix),len(matrix[0])) - 1) / 100000000    \n",
    "    syn_cor = np.corrcoef(matrix + noise_matrix)\n",
    "    print(LA.norm(real_cor - syn_cor, 'fro') / 2596 / 2596 * 1000 * 1000)"
   ]
  },
  {
   "cell_type": "code",
   "execution_count": 5,
   "metadata": {},
   "outputs": [
    {
     "name": "stdout",
     "output_type": "stream",
     "text": [
      "Column-wise correlation difference: \n",
      "\n",
      "19.18388024213948\n",
      "18.117384430055314\n",
      "18.1947453867985\n"
     ]
    }
   ],
   "source": [
    "## medbgan\n",
    "print(\"Column-wise correlation difference: \\n\")\n",
    "for matrix in syn_data_medbgan_list:\n",
    "    np.random.seed(0)\n",
    "    noise_matrix = (np.random.rand(len(matrix),len(matrix[0])) - 1) / 100000000    \n",
    "    syn_cor = np.corrcoef(matrix + noise_matrix)\n",
    "    print(LA.norm(real_cor - syn_cor, 'fro') / 2596 / 2596 * 1000 * 1000)"
   ]
  },
  {
   "cell_type": "code",
   "execution_count": 6,
   "metadata": {},
   "outputs": [
    {
     "name": "stdout",
     "output_type": "stream",
     "text": [
      "Column-wise correlation difference: \n",
      "\n",
      "11.884084005069798\n",
      "12.007618075236389\n",
      "12.440674174734623\n"
     ]
    }
   ],
   "source": [
    "## emrwgan\n",
    "print(\"Column-wise correlation difference: \\n\")\n",
    "for matrix in syn_data_emrwgan_list:\n",
    "    np.random.seed(0)\n",
    "    noise_matrix = (np.random.rand(len(matrix),len(matrix[0])) - 1) / 100000000    \n",
    "    syn_cor = np.corrcoef(matrix + noise_matrix)\n",
    "    print(LA.norm(real_cor - syn_cor, 'fro') / 2596 / 2596 * 1000 * 1000)"
   ]
  },
  {
   "cell_type": "code",
   "execution_count": 7,
   "metadata": {},
   "outputs": [
    {
     "name": "stdout",
     "output_type": "stream",
     "text": [
      "Column-wise correlation difference: \n",
      "\n",
      "14.568860200104428\n",
      "12.432103363542746\n",
      "11.4365723575388\n"
     ]
    }
   ],
   "source": [
    "## medwgan\n",
    "print(\"Column-wise correlation difference: \\n\")\n",
    "for matrix in syn_data_medwgan_list:\n",
    "    np.random.seed(0)\n",
    "    noise_matrix = (np.random.rand(len(matrix),len(matrix[0])) - 1) / 100000000    \n",
    "    syn_cor = np.corrcoef(matrix + noise_matrix)\n",
    "    print(LA.norm(real_cor - syn_cor, 'fro') / 2596 / 2596 * 1000 * 1000)"
   ]
  },
  {
   "cell_type": "code",
   "execution_count": 8,
   "metadata": {},
   "outputs": [
    {
     "name": "stdout",
     "output_type": "stream",
     "text": [
      "Column-wise correlation difference: \n",
      "\n",
      "18.83475783022061\n",
      "18.18612081194137\n",
      "18.976926033426082\n"
     ]
    }
   ],
   "source": [
    "## dpgan\n",
    "print(\"Column-wise correlation difference: \\n\")\n",
    "for matrix in syn_data_dpgan_list:\n",
    "    np.random.seed(0)\n",
    "    noise_matrix = (np.random.rand(len(matrix),len(matrix[0])) - 1) / 100000000    \n",
    "    syn_cor = np.corrcoef(matrix + noise_matrix)\n",
    "    print(LA.norm(real_cor - syn_cor, 'fro') / 2596 / 2596 * 1000 * 1000)"
   ]
  }
 ],
 "metadata": {
  "kernelspec": {
   "display_name": "Python 3",
   "language": "python",
   "name": "python3"
  },
  "language_info": {
   "codemirror_mode": {
    "name": "ipython",
    "version": 3
   },
   "file_extension": ".py",
   "mimetype": "text/x-python",
   "name": "python",
   "nbconvert_exporter": "python",
   "pygments_lexer": "ipython3",
   "version": "3.7.13"
  }
 },
 "nbformat": 4,
 "nbformat_minor": 2
}
