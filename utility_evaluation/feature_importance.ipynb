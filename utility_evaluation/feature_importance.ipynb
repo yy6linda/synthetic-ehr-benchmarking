{
 "cells": [
  {
   "cell_type": "code",
   "execution_count": null,
   "metadata": {},
   "outputs": [],
   "source": [
    "import pandas as pd\n",
    "import os\n",
    "import sklearn\n",
    "from sklearn.metrics import roc_curve,auc,precision_recall_curve\n",
    "import numpy as np\n",
    "import scipy\n",
    "import scipy.stats as st\n",
    "import matplotlib.pyplot as plt\n",
    "plt.rcParams[\"axes.grid\"] = False\n",
    "import seaborn as sns\n",
    "import pandas as pd\n",
    "import numpy as np\n",
    "import pickle\n",
    "from scipy import stats"
   ]
  },
  {
   "cell_type": "code",
   "execution_count": null,
   "metadata": {},
   "outputs": [],
   "source": [
    "# load feature importance generated using SHAP in the prediction stage for UW data\n",
    "uw_real_feat = pd.read_csv(\"r_70_train_r_30_test_feature_importance.csv\")\n",
    "uw_real_abs = uw_real_feat.abs()\n",
    "uw_real_abs_value = uw_real_abs.sum(axis=0)\n",
    "uw_real_abs_value = dict(uw_real_abs_value)\n",
    "uw_real_abs_value.pop('Unnamed: 0')"
   ]
  },
  {
   "cell_type": "code",
   "execution_count": null,
   "metadata": {},
   "outputs": [],
   "source": [
    "# rank the feature based on importance\n",
    "feature_importance_rank = sorted(uw_real_abs_value, key=uw_real_abs_value.get, reverse=True)"
   ]
  },
  {
   "cell_type": "code",
   "execution_count": null,
   "metadata": {},
   "outputs": [],
   "source": [
    "# load the feature dictionary to get the concept names \n",
    "file_to_read = open(\"/data/users/yanyao/myproj/synpuf/uw_vumc_syn/binary_real/mapped_dataset/feature_dict.pickle\", \"rb\")\n",
    "feature_dict = pickle.load(file_to_read)"
   ]
  },
  {
   "cell_type": "code",
   "execution_count": null,
   "metadata": {},
   "outputs": [],
   "source": [
    "# top 200 uw features\n",
    "uw_200_index = []\n",
    "for i in feature_importance_rank[:200]:\n",
    "    uw_200_index.append(feature_dict[i])\n",
    "uw_200 = pd.DataFrame(uw_200_index)\n",
    "uw_200.to_csv(\"./uw_top_200_index.csv\", index=False)"
   ]
  },
  {
   "cell_type": "code",
   "execution_count": null,
   "metadata": {},
   "outputs": [],
   "source": [
    "# load feature importance generated using SHAP in the prediction stage for VUMC data\n",
    "vumc_real_feat = pd.read_csv(\"/data/users/yanyao/myproj/synpuf/uw_vumc_syn/vumc_top_3/r_70_train_r_30_test_feature_importance.csv\")\n",
    "vumc_real_abs = vumc_real_feat.abs()\n",
    "vumc_real_abs_value = vumc_real_abs.sum(axis=0)\n",
    "vumc_real_abs_value = dict(vumc_real_abs_value)\n",
    "vumc_real_abs_value.pop('Unnamed: 0')\n",
    "# rank VUMC features\n",
    "feature_importance_rank_vumc = sorted(vumc_real_abs_value, key=vumc_real_abs_value.get, reverse=True)\n",
    "# top 200 features\n",
    "vumc_200 = pd.DataFrame(feature_importance_rank_vumc[:200])\n",
    "vumc_200.to_csv(\"./vumc_top_200_feat_name_new.csv\", index=False)\n"
   ]
  },
  {
   "cell_type": "markdown",
   "metadata": {},
   "source": [
    "# UW combined"
   ]
  },
  {
   "cell_type": "code",
   "execution_count": null,
   "metadata": {},
   "outputs": [],
   "source": [
    "# top 25 features selected by model trained on UW real data\n",
    "uw_real_feat = pd.read_csv(\"r_70_train_r_30_test_feature_importance.csv\")\n",
    "uw_real_abs = uw_real_feat.abs()\n",
    "uw_real_abs_value = uw_real_abs.sum(axis=0)/uw_real_feat.shape[0]\n",
    "real_list = list(uw_real_abs_value)\n",
    "real_list.pop(0)"
   ]
  },
  {
   "cell_type": "code",
   "execution_count": null,
   "metadata": {},
   "outputs": [],
   "source": [
    "top_25_idx = np.argsort(real_list)[-25:]\n",
    "top_25_values_real = [real_list[i] for i in top_25_idx]"
   ]
  },
  {
   "cell_type": "code",
   "execution_count": null,
   "metadata": {},
   "outputs": [],
   "source": [
    "## calculate the distance\n",
    "models = [\"baseline\",\"medgan\",\"medbgan\",\"emrwgan\",\"medwgan\",\"dpgan\"]\n",
    "for model in models:\n",
    "    for run in range(3):\n",
    "        features = np.load(f\"{model}_s_sep_train_r_30_test_shap_{run}.npy\")\n",
    "        avg_features = np.sum(np.absolute(features),axis=0)\n",
    "        avg_features = list(avg_features/features.shape[0])\n",
    "        avg_features_25 = [avg_features[i] for i in top_25_idx]\n",
    "        res = scipy.spatial.distance.cosine(avg_features_25,top_25_values_real)\n",
    "        print(f\"{model}_s_sep_train_r_30_test_shap_{run}: {res}\")"
   ]
  },
  {
   "cell_type": "markdown",
   "metadata": {},
   "source": [
    "# UW separate"
   ]
  },
  {
   "cell_type": "code",
   "execution_count": null,
   "metadata": {},
   "outputs": [],
   "source": [
    "# count # of overlapping features among the 25 most important features for UW synthetic data generated \n",
    "# under separate synthesis paradigm\n",
    "models = [\"baseline\",\"medgan\",\"medbgan\",\"emrwgan\",\"medwgan\",\"dpgan\"]\n",
    "for model in models:\n",
    "    for run in range(3):\n",
    "        features = np.load(f\"{model}_s_sep_train_r_30_test_shap_{run}.npy\")\n",
    "        avg_features = np.sum(np.absolute(features),axis=0)\n",
    "        top_25_idx_syn = np.argsort(avg_features)[-25:]\n",
    "        lst3 = len(list(filter(lambda x: x in top_25_idx_syn, top_25_idx)))\n",
    "        print(lst3)\n",
    "        print(f\"{model}_s_sep_train_r_30_test_shap_{run}: {lst3}\")\n",
    "        \n",
    "        print(\"*******\")\n",
    "        "
   ]
  },
  {
   "cell_type": "markdown",
   "metadata": {},
   "source": [
    "# UW combined"
   ]
  },
  {
   "cell_type": "code",
   "execution_count": null,
   "metadata": {},
   "outputs": [],
   "source": [
    "# count # of overlapping features among the 25 most important features for UW synthetic data generated \n",
    "# under combined synthesis paradigm\n",
    "models = [\"baseline\",\"medgan\",\"medbgan\",\"emrwgan\",\"medwgan\",\"dpgan\"]\n",
    "for model in models:\n",
    "    for run in range(3):\n",
    "        features = np.load(f\"{model}_s_train_r_30_test_shap_{run}.npy\")\n",
    "        avg_features = np.sum(np.absolute(features),axis=0)\n",
    "        top_25_idx_syn = np.argsort(avg_features)[-25:]\n",
    "        lst3 = len(list(filter(lambda x: x in top_25_idx_syn, top_25_idx)))\n",
    "        print(lst3)\n",
    "        print(f\"{model}_s_train_r_30_test_shap_{run}: {lst3}\")\n",
    "        \n",
    "        print(\"*******\")\n",
    "        "
   ]
  },
  {
   "cell_type": "markdown",
   "metadata": {},
   "source": [
    "# Correlation calculation VUMC"
   ]
  },
  {
   "cell_type": "code",
   "execution_count": null,
   "metadata": {},
   "outputs": [],
   "source": [
    "# top 20 features selected by model trained on VUMC real data\n",
    "vumc_real_feat = pd.read_csv(\"/data/users/yanyao/myproj/synpuf/uw_vumc_syn/vumc_top_3/r_70_train_r_30_test_feature_importance.csv\")\n",
    "vumc_real_abs = vumc_real_feat.abs()\n",
    "vumc_real_abs_value = vumc_real_abs.sum(axis=0)/vumc_real_feat.shape[0]\n",
    "real_list = list(vumc_real_abs_value)\n",
    "real_list.pop(0)"
   ]
  },
  {
   "cell_type": "code",
   "execution_count": null,
   "metadata": {},
   "outputs": [],
   "source": [
    "top_20_idx = np.argsort(real_list)[-20:]\n",
    "top_20_values_real = [real_list[i] for i in top_20_idx]"
   ]
  },
  {
   "cell_type": "code",
   "execution_count": null,
   "metadata": {},
   "outputs": [],
   "source": [
    "# calculate correlation\n",
    "models = [\"baseline\",\"medgan\",\"medbgan\",\"emrwgan\",\"medwgan\",\"dpgan\"]\n",
    "for model in models:\n",
    "    for run in range(3):\n",
    "        features = np.load(f\"/data/users/yanyao/myproj/synpuf/uw_vumc_syn/vumc_top_3/{model}_s_train_r_30_test_shap_{run}.npy\")\n",
    "        avg_features = np.sum(np.absolute(features),axis=0)\n",
    "        avg_features = list(avg_features/features.shape[0])\n",
    "        avg_features_20 = [avg_features[i] for i in top_20_idx]\n",
    "        res = np.corrcoef(avg_features_20,top_20_values_real)\n",
    "        print(f\"{model}_s_sep_train_r_30_test_shap_{run}: {res[0][1]}\")\n",
    "        "
   ]
  },
  {
   "cell_type": "code",
   "execution_count": null,
   "metadata": {},
   "outputs": [],
   "source": [
    "# count # of overlapping features among the 25 most important features for VUMC synthetic data generated \n",
    "# under combined synthesis paradigm\n",
    "models = [\"baseline\",\"medgan\",\"medbgan\",\"emrwgan\",\"medwgan\",\"dpgan\"]\n",
    "for model in models:\n",
    "    for run in range(3):\n",
    "        features = np.load(f\"/data/users/yanyao/myproj/synpuf/uw_vumc_syn/vumc_top_3/{model}_s_train_r_30_test_shap_{run}.npy\")\n",
    "        avg_features = np.sum(np.absolute(features),axis=0)\n",
    "        top_20_idx_syn = np.argsort(avg_features)[-20:]\n",
    "        lst3 = len(list(filter(lambda x: x in top_20_idx_syn, top_20_idx)))\n",
    "        print(f\"{model}_s_train_r_30_test_shap_{run}: {lst3}\")\n",
    "        \n",
    "        "
   ]
  },
  {
   "cell_type": "code",
   "execution_count": null,
   "metadata": {},
   "outputs": [],
   "source": []
  }
 ],
 "metadata": {
  "kernelspec": {
   "display_name": "Python 3",
   "language": "python",
   "name": "python3"
  },
  "language_info": {
   "codemirror_mode": {
    "name": "ipython",
    "version": 3
   },
   "file_extension": ".py",
   "mimetype": "text/x-python",
   "name": "python",
   "nbconvert_exporter": "python",
   "pygments_lexer": "ipython3",
   "version": "3.7.6"
  }
 },
 "nbformat": 4,
 "nbformat_minor": 4
}
