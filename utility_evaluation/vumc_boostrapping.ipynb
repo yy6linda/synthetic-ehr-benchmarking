{
 "cells": [
  {
   "cell_type": "code",
   "execution_count": 12,
   "metadata": {},
   "outputs": [],
   "source": [
    "import pandas as pd\n",
    "import os\n",
    "import sklearn\n",
    "from sklearn.metrics import roc_curve,auc,precision_recall_curve\n",
    "import numpy as np\n",
    "import scipy\n",
    "import scipy.stats as st\n",
    "import matplotlib.pyplot as plt\n",
    "plt.rcParams[\"axes.grid\"] = False\n",
    "import seaborn as sns\n",
    "import pandas as pd\n",
    "import numpy as np\n"
   ]
  },
  {
   "cell_type": "code",
   "execution_count": 13,
   "metadata": {},
   "outputs": [],
   "source": [
    "models = [\"iwae\",\"medgan\",\"medbgan\",\"emrwgan\",\"medwgan\",\"dpgan\"]"
   ]
  },
  {
   "cell_type": "markdown",
   "metadata": {},
   "source": [
    "# Model trained and tested on real data"
   ]
  },
  {
   "cell_type": "code",
   "execution_count": 14,
   "metadata": {},
   "outputs": [],
   "source": [
    "NUM_BOOTSTRAPS = 1000\n",
    "SIZE_BOOTSTRAPS = 10000"
   ]
  },
  {
   "cell_type": "code",
   "execution_count": 15,
   "metadata": {},
   "outputs": [],
   "source": [
    "r_70_r_30 = np.load(\"r_70_train_r_30_test_y_estimate.npy\")\n",
    "r_70_r_30 = pd.DataFrame(r_70_r_30, columns = [\"prediction\"])\n",
    "r_30_r_70 = np.load(\"r_30_train_r_70_test_y_estimate.npy\")\n",
    "r_30_r_70 = pd.DataFrame(r_30_r_70, columns = [\"prediction\"])\n",
    "r_70_gs = np.load(\"r_30_train_r_70_test_y_label.npy\")\n",
    "r_30_gs = np.load(\"r_70_train_r_30_test_y_label.npy\")\n",
    "r_30_gs = pd.DataFrame(r_30_gs, columns = [\"gs\"])\n",
    "r_70_gs = pd.DataFrame(r_70_gs, columns = [\"gs\"])"
   ]
  },
  {
   "cell_type": "code",
   "execution_count": 24,
   "metadata": {},
   "outputs": [],
   "source": [
    "def bootstrap_submission_r_train_r_test(prediction, gs):\n",
    "    score = []\n",
    "    data = pd.concat([prediction, gs],axis=1)\n",
    "    for boot in range(NUM_BOOTSTRAPS):\n",
    "        temp = {}\n",
    "        sampled_data = data.sample(n=SIZE_BOOTSTRAPS, replace=True)\n",
    "        fpr, tpr, thresholds = roc_curve(sampled_data[\"gs\"], sampled_data[\"prediction\"], pos_label=1)\n",
    "        auroc_score = round(auc(fpr, tpr), 4)\n",
    "        #print (boot, auroc_score)\n",
    "        score.append(auroc_score)\n",
    "    lower_p = 2.5\n",
    "    upper_p =97.5\n",
    "    mean = round(sum(score) / len(score),3)\n",
    "    low = round(np.percentile(score,lower_p),3)\n",
    "    up = round(np.percentile(score,upper_p),3)    \n",
    "    print(f\" {mean}({low},{up})\")\n",
    "    return score"
   ]
  },
  {
   "cell_type": "code",
   "execution_count": 25,
   "metadata": {},
   "outputs": [
    {
     "name": "stdout",
     "output_type": "stream",
     "text": [
      " 0.781(0.756,0.805)\n",
      " 0.801(0.775,0.824)\n"
     ]
    }
   ],
   "source": [
    "# train on 30% real data and test on 70% real data\n",
    "real_score_30_70 = bootstrap_submission_r_train_r_test(r_30_r_70, r_70_gs)\n",
    "# train on 70% real data and test on 30% real data\n",
    "real_score_70_30 = bootstrap_submission_r_train_r_test(r_70_r_30, r_30_gs)"
   ]
  },
  {
   "cell_type": "code",
   "execution_count": 20,
   "metadata": {},
   "outputs": [
    {
     "name": "stdout",
     "output_type": "stream",
     "text": [
      "Performance of model trained on 70% real data and tested on 30% real data: 0.8014 \n",
      "Performance of model trained on 30% real data and tested on 70% real data: 0.7807 \n"
     ]
    }
   ],
   "source": [
    "fpr, tpr, thresholds = roc_curve(r_30_gs,r_70_r_30, pos_label=1)\n",
    "auroc_score = round(auc(fpr, tpr), 4)\n",
    "print(f\"Performance of model trained on 70% real data and tested on 30% real data: {auroc_score} \")\n",
    "\n",
    "fpr, tpr, thresholds = roc_curve(r_70_gs,r_30_r_70, pos_label=1)\n",
    "auroc_score = round(auc(fpr, tpr), 4)\n",
    "print(f\"Performance of model trained on 30% real data and tested on 70% real data: {auroc_score} \")"
   ]
  },
  {
   "cell_type": "code",
   "execution_count": 28,
   "metadata": {},
   "outputs": [
    {
     "data": {
      "text/plain": [
       "1000"
      ]
     },
     "execution_count": 28,
     "metadata": {},
     "output_type": "execute_result"
    }
   ],
   "source": [
    "len(real_score_70_30)"
   ]
  },
  {
   "cell_type": "markdown",
   "metadata": {},
   "source": [
    "# Model trained on synthetic data and tested on 30% real data"
   ]
  },
  {
   "cell_type": "code",
   "execution_count": 44,
   "metadata": {},
   "outputs": [],
   "source": [
    "NUM_BOOTSTRAPS = 1000\n",
    "SIZE_BOOTSTRAPS = 10000\n",
    "# medgan_s_train_r_30_test_y_estimate.npy\n",
    "# medgan_r_30_train_s_test_y_estimate.npy\n",
    "# train_type s_train_r_30_test, r_30_train_s_test\n",
    "#{model}_{train_type}_y_estimate.npy\n",
    "def bootstrap_submission_s_train_r_30_test(model):\n",
    "    scores = []\n",
    "    #print (predictions)\n",
    "    prediction = np.load(f\"{model}_s_train_r_30_test_y_estimate.npy\").T\n",
    "    prediction = pd.DataFrame(prediction, columns = [\"1\",\"2\",\"3\"])\n",
    "    r_30_gs = np.load(\"r_70_train_r_30_test_y_label.npy\")\n",
    "    r_30_gs = pd.DataFrame(r_30_gs, columns = [\"gs\"])\n",
    "    data = pd.concat([prediction, r_30_gs],axis=1)\n",
    "    for boot in range(NUM_BOOTSTRAPS):\n",
    "        for i in range(1,4):\n",
    "            temp = {}\n",
    "            sampled_data = data[[str(i),\"gs\"]].sample(n=SIZE_BOOTSTRAPS, replace=True)\n",
    "            fpr, tpr, thresholds = roc_curve(sampled_data[\"gs\"], sampled_data[str(i)], pos_label=1)\n",
    "            auroc_score = round(auc(fpr, tpr), 4)\n",
    "            #print (boot, auroc_score)\n",
    "            temp[\"Model\"] = model\n",
    "            temp[\"Run\"] = i\n",
    "            temp[\"AUROC\"] = float(auroc_score)\n",
    "            scores.append(temp)\n",
    "    scores = pd.DataFrame(scores)\n",
    "    return scores"
   ]
  },
  {
   "cell_type": "code",
   "execution_count": 45,
   "metadata": {},
   "outputs": [],
   "source": [
    "res = pd.DataFrame()\n",
    "for model in models:\n",
    "    new = bootstrap_submission_s_train_r_30_test(model)\n",
    "    res = pd.concat([res,new],axis = 0)"
   ]
  },
  {
   "cell_type": "code",
   "execution_count": 46,
   "metadata": {},
   "outputs": [
    {
     "data": {
      "text/html": [
       "<div>\n",
       "<style scoped>\n",
       "    .dataframe tbody tr th:only-of-type {\n",
       "        vertical-align: middle;\n",
       "    }\n",
       "\n",
       "    .dataframe tbody tr th {\n",
       "        vertical-align: top;\n",
       "    }\n",
       "\n",
       "    .dataframe thead th {\n",
       "        text-align: right;\n",
       "    }\n",
       "</style>\n",
       "<table border=\"1\" class=\"dataframe\">\n",
       "  <thead>\n",
       "    <tr style=\"text-align: right;\">\n",
       "      <th></th>\n",
       "      <th>Model</th>\n",
       "      <th>Run</th>\n",
       "      <th>AUROC</th>\n",
       "    </tr>\n",
       "  </thead>\n",
       "  <tbody>\n",
       "    <tr>\n",
       "      <th>0</th>\n",
       "      <td>IWAE</td>\n",
       "      <td>1</td>\n",
       "      <td>0.5502</td>\n",
       "    </tr>\n",
       "    <tr>\n",
       "      <th>1</th>\n",
       "      <td>IWAE</td>\n",
       "      <td>2</td>\n",
       "      <td>0.5746</td>\n",
       "    </tr>\n",
       "    <tr>\n",
       "      <th>2</th>\n",
       "      <td>IWAE</td>\n",
       "      <td>3</td>\n",
       "      <td>0.4542</td>\n",
       "    </tr>\n",
       "    <tr>\n",
       "      <th>3</th>\n",
       "      <td>IWAE</td>\n",
       "      <td>1</td>\n",
       "      <td>0.5770</td>\n",
       "    </tr>\n",
       "    <tr>\n",
       "      <th>4</th>\n",
       "      <td>IWAE</td>\n",
       "      <td>2</td>\n",
       "      <td>0.5664</td>\n",
       "    </tr>\n",
       "    <tr>\n",
       "      <th>...</th>\n",
       "      <td>...</td>\n",
       "      <td>...</td>\n",
       "      <td>...</td>\n",
       "    </tr>\n",
       "    <tr>\n",
       "      <th>2995</th>\n",
       "      <td>DPGAN</td>\n",
       "      <td>2</td>\n",
       "      <td>0.6943</td>\n",
       "    </tr>\n",
       "    <tr>\n",
       "      <th>2996</th>\n",
       "      <td>DPGAN</td>\n",
       "      <td>3</td>\n",
       "      <td>0.7047</td>\n",
       "    </tr>\n",
       "    <tr>\n",
       "      <th>2997</th>\n",
       "      <td>DPGAN</td>\n",
       "      <td>1</td>\n",
       "      <td>0.6423</td>\n",
       "    </tr>\n",
       "    <tr>\n",
       "      <th>2998</th>\n",
       "      <td>DPGAN</td>\n",
       "      <td>2</td>\n",
       "      <td>0.6735</td>\n",
       "    </tr>\n",
       "    <tr>\n",
       "      <th>2999</th>\n",
       "      <td>DPGAN</td>\n",
       "      <td>3</td>\n",
       "      <td>0.6618</td>\n",
       "    </tr>\n",
       "  </tbody>\n",
       "</table>\n",
       "<p>18000 rows × 3 columns</p>\n",
       "</div>"
      ],
      "text/plain": [
       "      Model  Run   AUROC\n",
       "0      IWAE    1  0.5502\n",
       "1      IWAE    2  0.5746\n",
       "2      IWAE    3  0.4542\n",
       "3      IWAE    1  0.5770\n",
       "4      IWAE    2  0.5664\n",
       "...     ...  ...     ...\n",
       "2995  DPGAN    2  0.6943\n",
       "2996  DPGAN    3  0.7047\n",
       "2997  DPGAN    1  0.6423\n",
       "2998  DPGAN    2  0.6735\n",
       "2999  DPGAN    3  0.6618\n",
       "\n",
       "[18000 rows x 3 columns]"
      ]
     },
     "execution_count": 46,
     "metadata": {},
     "output_type": "execute_result"
    }
   ],
   "source": [
    "name_format = {\"emrwgan\":\"EMR-WGAN\", \"medgan\":\"medGAN\", \"medbgan\":\"medBGAN\",\"medwgan\":\"medWGAN\",\"dpgan\":\"DPGAN\",\"iwae\":\"IWAE\"}\n",
    "res[\"Model\"] = res[\"Model\"].apply(lambda x: x.replace(x, name_format[x]))\n",
    "res"
   ]
  },
  {
   "cell_type": "code",
   "execution_count": 47,
   "metadata": {},
   "outputs": [
    {
     "name": "stdout",
     "output_type": "stream",
     "text": [
      "EMR-WGAN, run 1: 0.717(0.691,0.741)\n",
      "EMR-WGAN, run 2: 0.738(0.709,0.766)\n",
      "EMR-WGAN, run 3: 0.699(0.67,0.725)\n",
      "medGAN, run 1: 0.688(0.659,0.717)\n",
      "medGAN, run 2: 0.563(0.532,0.593)\n",
      "medGAN, run 3: 0.671(0.643,0.698)\n",
      "medBGAN, run 1: 0.568(0.538,0.599)\n",
      "medBGAN, run 2: 0.559(0.529,0.589)\n",
      "medBGAN, run 3: 0.664(0.638,0.692)\n",
      "medWGAN, run 1: 0.639(0.61,0.667)\n",
      "medWGAN, run 2: 0.655(0.628,0.681)\n",
      "medWGAN, run 3: 0.711(0.684,0.738)\n",
      "DPGAN, run 1: 0.64(0.611,0.669)\n",
      "DPGAN, run 2: 0.688(0.662,0.717)\n",
      "DPGAN, run 3: 0.663(0.635,0.691)\n",
      "IWAE, run 1: 0.574(0.545,0.602)\n",
      "IWAE, run 2: 0.568(0.539,0.597)\n",
      "IWAE, run 3: 0.472(0.442,0.502)\n"
     ]
    }
   ],
   "source": [
    "# get 95% CI of each model each run\n",
    "CI = pd.DataFrame()\n",
    "for model in name_format.values():\n",
    "    for run in range(1,4):\n",
    "        score_l = list(res[(res[\"Model\"] == model)&(res[\"Run\"] == run)][\"AUROC\"])\n",
    "        mean = round(sum(score_l) / len(score_l),3)\n",
    "        lower_p = 2.5\n",
    "        upper_p =97.5\n",
    "        low = round(np.percentile(score_l,lower_p),3)\n",
    "        up = round(np.percentile(score_l,upper_p),3)\n",
    "        \n",
    "        print(f\"{model}, run {run}: {mean}({low},{up})\")"
   ]
  },
  {
   "cell_type": "code",
   "execution_count": 48,
   "metadata": {},
   "outputs": [
    {
     "name": "stdout",
     "output_type": "stream",
     "text": [
      "EMR-WGAN, run 3: 0.718(0.678,0.758)\n",
      "medGAN, run 3: 0.641(0.541,0.709)\n",
      "medBGAN, run 3: 0.597(0.534,0.685)\n",
      "medWGAN, run 3: 0.668(0.618,0.733)\n",
      "DPGAN, run 3: 0.664(0.619,0.708)\n",
      "IWAE, run 3: 0.538(0.45,0.597)\n"
     ]
    }
   ],
   "source": [
    "# get 95% CI of each model\n",
    "CI = pd.DataFrame()\n",
    "for model in name_format.values():\n",
    "    score_l = list(res[(res[\"Model\"] == model)][\"AUROC\"])\n",
    "    lower_p = 2.5\n",
    "    upper_p =97.5\n",
    "    mean = round(sum(score_l) / len(score_l),3)\n",
    "    low = round(np.percentile(score_l,lower_p),3)\n",
    "    up = round(np.percentile(score_l,upper_p),3)\n",
    "\n",
    "    print(f\"{model}, run {run}: {mean}({low},{up})\")"
   ]
  },
  {
   "cell_type": "code",
   "execution_count": 34,
   "metadata": {},
   "outputs": [
    {
     "name": "stderr",
     "output_type": "stream",
     "text": [
      "The PostScript backend does not support transparency; partially transparent artists will be rendered opaque.\n",
      "The PostScript backend does not support transparency; partially transparent artists will be rendered opaque.\n",
      "The PostScript backend does not support transparency; partially transparent artists will be rendered opaque.\n",
      "The PostScript backend does not support transparency; partially transparent artists will be rendered opaque.\n"
     ]
    },
    {
     "data": {
      "text/plain": [
       "<Figure size 432x288 with 0 Axes>"
      ]
     },
     "metadata": {},
     "output_type": "display_data"
    },
    {
     "data": {
      "image/png": "[encoded data removed]",
      "text/plain": [
       "<Figure size 288x432 with 1 Axes>"
      ]
     },
     "metadata": {
      "needs_background": "light"
     },
     "output_type": "display_data"
    }
   ],
   "source": [
    "plt.figure()\n",
    "## plot model performance on different dataset version\n",
    "plt.figure(figsize=(4,6))\n",
    "y = np.arange(1,20)\n",
    "x = np.arange(1,5)\n",
    "#sns.set(font_scale = 3)\n",
    "ax = sns.boxplot(x='AUROC',y='Model',hue='Run', data = res, fliersize=1,linewidth = 0.3,width=0.4 )\n",
    "sns.despine(offset=20, trim=True)\n",
    "#ax = sns.swarmplot(x='Team', y='AUROC',hue='measurement_group', data = score_list[0],color=\"grey\",size =2)\n",
    "#ax = sns.scatterplot(x='bin', y='rt_mean',color=\"red\", data = rt_mean)\n",
    "plt.ylabel('Teams',size=10)\n",
    "plt.xlabel('AUROC',size=10)\n",
    "plt.legend(prop={'size':8})\n",
    "plt.xticks(fontsize=8)\n",
    "plt.yticks(fontsize=8)\n",
    "plt.xticks(np.arange(0.4,0.9,0.05))\n",
    "plt.xlim(0.4,0.90)\n",
    "plt.title('Performance of models trained on synthetic data and tested on 30% real data',size=8 )\n",
    "plt.savefig('./s_train_r_30_test.eps',bbox_inches='tight', format='eps')   "
   ]
  },
  {
   "cell_type": "code",
   "execution_count": 49,
   "metadata": {},
   "outputs": [
    {
     "name": "stderr",
     "output_type": "stream",
     "text": [
      "/data/users/yanyao/myproj/synpuf/venv/lib64/python3.6/site-packages/ipykernel_launcher.py:8: SettingWithCopyWarning: \n",
      "A value is trying to be set on a copy of a slice from a DataFrame.\n",
      "Try using .loc[row_indexer,col_indexer] = value instead\n",
      "\n",
      "See the caveats in the documentation: https://pandas.pydata.org/pandas-docs/stable/user_guide/indexing.html#returning-a-view-versus-a-copy\n",
      "  \n",
      "/data/users/yanyao/myproj/synpuf/venv/lib64/python3.6/site-packages/pandas/core/frame.py:3997: SettingWithCopyWarning: \n",
      "A value is trying to be set on a copy of a slice from a DataFrame\n",
      "\n",
      "See the caveats in the documentation: https://pandas.pydata.org/pandas-docs/stable/user_guide/indexing.html#returning-a-view-versus-a-copy\n",
      "  errors=errors,\n"
     ]
    },
    {
     "data": {
      "text/html": [
       "<div>\n",
       "<style scoped>\n",
       "    .dataframe tbody tr th:only-of-type {\n",
       "        vertical-align: middle;\n",
       "    }\n",
       "\n",
       "    .dataframe tbody tr th {\n",
       "        vertical-align: top;\n",
       "    }\n",
       "\n",
       "    .dataframe thead th {\n",
       "        text-align: right;\n",
       "    }\n",
       "</style>\n",
       "<table border=\"1\" class=\"dataframe\">\n",
       "  <thead>\n",
       "    <tr style=\"text-align: right;\">\n",
       "      <th></th>\n",
       "      <th>Model</th>\n",
       "      <th>AUROC</th>\n",
       "      <th>Data type</th>\n",
       "    </tr>\n",
       "  </thead>\n",
       "  <tbody>\n",
       "    <tr>\n",
       "      <th>0</th>\n",
       "      <td>IWAE</td>\n",
       "      <td>0.5502</td>\n",
       "      <td>Synthetic</td>\n",
       "    </tr>\n",
       "    <tr>\n",
       "      <th>3</th>\n",
       "      <td>IWAE</td>\n",
       "      <td>0.5770</td>\n",
       "      <td>Synthetic</td>\n",
       "    </tr>\n",
       "    <tr>\n",
       "      <th>6</th>\n",
       "      <td>IWAE</td>\n",
       "      <td>0.5625</td>\n",
       "      <td>Synthetic</td>\n",
       "    </tr>\n",
       "    <tr>\n",
       "      <th>9</th>\n",
       "      <td>IWAE</td>\n",
       "      <td>0.5811</td>\n",
       "      <td>Synthetic</td>\n",
       "    </tr>\n",
       "    <tr>\n",
       "      <th>12</th>\n",
       "      <td>IWAE</td>\n",
       "      <td>0.5703</td>\n",
       "      <td>Synthetic</td>\n",
       "    </tr>\n",
       "    <tr>\n",
       "      <th>...</th>\n",
       "      <td>...</td>\n",
       "      <td>...</td>\n",
       "      <td>...</td>\n",
       "    </tr>\n",
       "    <tr>\n",
       "      <th>995</th>\n",
       "      <td>Real</td>\n",
       "      <td>0.7997</td>\n",
       "      <td>Real</td>\n",
       "    </tr>\n",
       "    <tr>\n",
       "      <th>996</th>\n",
       "      <td>Real</td>\n",
       "      <td>0.7865</td>\n",
       "      <td>Real</td>\n",
       "    </tr>\n",
       "    <tr>\n",
       "      <th>997</th>\n",
       "      <td>Real</td>\n",
       "      <td>0.8147</td>\n",
       "      <td>Real</td>\n",
       "    </tr>\n",
       "    <tr>\n",
       "      <th>998</th>\n",
       "      <td>Real</td>\n",
       "      <td>0.8048</td>\n",
       "      <td>Real</td>\n",
       "    </tr>\n",
       "    <tr>\n",
       "      <th>999</th>\n",
       "      <td>Real</td>\n",
       "      <td>0.8050</td>\n",
       "      <td>Real</td>\n",
       "    </tr>\n",
       "  </tbody>\n",
       "</table>\n",
       "<p>7000 rows × 3 columns</p>\n",
       "</div>"
      ],
      "text/plain": [
       "    Model   AUROC  Data type\n",
       "0    IWAE  0.5502  Synthetic\n",
       "3    IWAE  0.5770  Synthetic\n",
       "6    IWAE  0.5625  Synthetic\n",
       "9    IWAE  0.5811  Synthetic\n",
       "12   IWAE  0.5703  Synthetic\n",
       "..    ...     ...        ...\n",
       "995  Real  0.7997       Real\n",
       "996  Real  0.7865       Real\n",
       "997  Real  0.8147       Real\n",
       "998  Real  0.8048       Real\n",
       "999  Real  0.8050       Real\n",
       "\n",
       "[7000 rows x 3 columns]"
      ]
     },
     "execution_count": 49,
     "metadata": {},
     "output_type": "execute_result"
    }
   ],
   "source": [
    "## special plot for the amia abstract submission, only takes the first run\n",
    "res_1 = res[res[\"Run\"] ==1]\n",
    "# real_score_70_30\n",
    "real_result = pd.DataFrame(real_score_70_30,columns = [\"AUROC\"])\n",
    "#real_result[]\n",
    "real_result[\"Model\"] = \"Real\"\n",
    "real_result[\"Data type\"] = \"Real\"\n",
    "res_1[\"Data type\"] = \"Synthetic\"\n",
    "res_1.drop(columns = [\"Run\"],inplace = True)\n",
    "res_1 = pd.concat([res_1,real_result],axis=0)\n",
    "res_1"
   ]
  },
  {
   "cell_type": "code",
   "execution_count": 52,
   "metadata": {},
   "outputs": [
    {
     "name": "stderr",
     "output_type": "stream",
     "text": [
      "The PostScript backend does not support transparency; partially transparent artists will be rendered opaque.\n",
      "The PostScript backend does not support transparency; partially transparent artists will be rendered opaque.\n",
      "The PostScript backend does not support transparency; partially transparent artists will be rendered opaque.\n",
      "The PostScript backend does not support transparency; partially transparent artists will be rendered opaque.\n"
     ]
    },
    {
     "data": {
      "text/plain": [
       "<Figure size 432x288 with 0 Axes>"
      ]
     },
     "metadata": {},
     "output_type": "display_data"
    },
    {
     "data": {
      "image/png": "[encoded data removed]",
      "text/plain": [
       "<Figure size 288x216 with 1 Axes>"
      ]
     },
     "metadata": {
      "needs_background": "light"
     },
     "output_type": "display_data"
    }
   ],
   "source": [
    "plt.figure()\n",
    "## plot model performance on different dataset version\n",
    "plt.figure(figsize=(4,3))\n",
    "y = np.arange(1,20)\n",
    "x = np.arange(1,5)\n",
    "#sns.set(font_scale = 3)\n",
    "ax = sns.boxplot(x='AUROC',y='Model', data = res_1,hue=\"Data type\", fliersize=1,linewidth = 0.3,width=0.4 )\n",
    "sns.despine(offset=20, trim=True)\n",
    "plt.ylabel('Teams',size=10)\n",
    "plt.xlabel('AUROC',size=10)\n",
    "plt.legend(prop={'size':8})\n",
    "plt.xticks(fontsize=8)\n",
    "plt.yticks(fontsize=8)\n",
    "plt.xticks(np.arange(0.4,0.9,0.1))\n",
    "plt.xlim(0.4,0.90)\n",
    "plt.title('Performance of models trained on synthetic data and tested on 30% real data',size=8 )\n",
    "plt.savefig('./s_train_r_30_test_amia.eps',bbox_inches='tight', format='eps')   "
   ]
  },
  {
   "cell_type": "markdown",
   "metadata": {},
   "source": [
    "# Model trained on 30% real data and tested on synthetic data"
   ]
  },
  {
   "cell_type": "code",
   "execution_count": 53,
   "metadata": {},
   "outputs": [],
   "source": [
    "NUM_BOOTSTRAPS = 1000\n",
    "SIZE_BOOTSTRAPS = 10000\n",
    "# medgan_r_30_train_s_test_label_gt.npy\n",
    "# medgan_r_30_train_s_test_y_estimate.npy\n",
    "def bootstrap_submission_r_30_train_s_test(model):\n",
    "    scores = []\n",
    "    #print (predictions)\n",
    "    prediction = np.load(f\"{model}_r_30_train_s_test_y_estimate.npy\").T\n",
    "    prediction = pd.DataFrame(prediction, columns = [\"p_1\",\"p_2\",\"p_3\"])\n",
    "    gs = np.load(f\"{model}_r_30_train_s_test_label_gt.npy\").T\n",
    "    gs = pd.DataFrame(gs, columns = [\"gs_1\",\"gs_2\",\"gs_3\"])\n",
    "    data = pd.concat([prediction, gs],axis=1)\n",
    "    for boot in range(NUM_BOOTSTRAPS):\n",
    "        for i in range(1,4):\n",
    "            temp = {}\n",
    "            sampled_data = data[[f\"gs_{i}\",f\"p_{i}\"]].sample(n=SIZE_BOOTSTRAPS, replace=True)\n",
    "            fpr, tpr, thresholds = roc_curve(sampled_data[f\"gs_{i}\"], sampled_data[f\"p_{i}\"], pos_label=1)\n",
    "            auroc_score = round(auc(fpr, tpr), 4)\n",
    "            #print (boot, auroc_score)\n",
    "            temp[\"Model\"] = model\n",
    "            temp[\"Run\"] = i\n",
    "            temp[\"AUROC\"] = float(auroc_score)\n",
    "            scores.append(temp)\n",
    "    scores = pd.DataFrame(scores)\n",
    "    return scores\n"
   ]
  },
  {
   "cell_type": "code",
   "execution_count": 54,
   "metadata": {},
   "outputs": [],
   "source": [
    "res = pd.DataFrame()\n",
    "for model in models:\n",
    "    new = bootstrap_submission_r_30_train_s_test(model)\n",
    "    res = pd.concat([res,new],axis = 0)"
   ]
  },
  {
   "cell_type": "code",
   "execution_count": 55,
   "metadata": {},
   "outputs": [
    {
     "data": {
      "text/html": [
       "<div>\n",
       "<style scoped>\n",
       "    .dataframe tbody tr th:only-of-type {\n",
       "        vertical-align: middle;\n",
       "    }\n",
       "\n",
       "    .dataframe tbody tr th {\n",
       "        vertical-align: top;\n",
       "    }\n",
       "\n",
       "    .dataframe thead th {\n",
       "        text-align: right;\n",
       "    }\n",
       "</style>\n",
       "<table border=\"1\" class=\"dataframe\">\n",
       "  <thead>\n",
       "    <tr style=\"text-align: right;\">\n",
       "      <th></th>\n",
       "      <th>Model</th>\n",
       "      <th>Run</th>\n",
       "      <th>AUROC</th>\n",
       "    </tr>\n",
       "  </thead>\n",
       "  <tbody>\n",
       "    <tr>\n",
       "      <th>0</th>\n",
       "      <td>IWAE</td>\n",
       "      <td>1</td>\n",
       "      <td>0.5168</td>\n",
       "    </tr>\n",
       "    <tr>\n",
       "      <th>1</th>\n",
       "      <td>IWAE</td>\n",
       "      <td>2</td>\n",
       "      <td>0.5113</td>\n",
       "    </tr>\n",
       "    <tr>\n",
       "      <th>2</th>\n",
       "      <td>IWAE</td>\n",
       "      <td>3</td>\n",
       "      <td>0.5040</td>\n",
       "    </tr>\n",
       "    <tr>\n",
       "      <th>3</th>\n",
       "      <td>IWAE</td>\n",
       "      <td>1</td>\n",
       "      <td>0.4909</td>\n",
       "    </tr>\n",
       "    <tr>\n",
       "      <th>4</th>\n",
       "      <td>IWAE</td>\n",
       "      <td>2</td>\n",
       "      <td>0.5131</td>\n",
       "    </tr>\n",
       "    <tr>\n",
       "      <th>...</th>\n",
       "      <td>...</td>\n",
       "      <td>...</td>\n",
       "      <td>...</td>\n",
       "    </tr>\n",
       "    <tr>\n",
       "      <th>2995</th>\n",
       "      <td>DPGAN</td>\n",
       "      <td>2</td>\n",
       "      <td>0.5995</td>\n",
       "    </tr>\n",
       "    <tr>\n",
       "      <th>2996</th>\n",
       "      <td>DPGAN</td>\n",
       "      <td>3</td>\n",
       "      <td>0.4859</td>\n",
       "    </tr>\n",
       "    <tr>\n",
       "      <th>2997</th>\n",
       "      <td>DPGAN</td>\n",
       "      <td>1</td>\n",
       "      <td>0.4613</td>\n",
       "    </tr>\n",
       "    <tr>\n",
       "      <th>2998</th>\n",
       "      <td>DPGAN</td>\n",
       "      <td>2</td>\n",
       "      <td>0.6010</td>\n",
       "    </tr>\n",
       "    <tr>\n",
       "      <th>2999</th>\n",
       "      <td>DPGAN</td>\n",
       "      <td>3</td>\n",
       "      <td>0.5148</td>\n",
       "    </tr>\n",
       "  </tbody>\n",
       "</table>\n",
       "<p>18000 rows × 3 columns</p>\n",
       "</div>"
      ],
      "text/plain": [
       "      Model  Run   AUROC\n",
       "0      IWAE    1  0.5168\n",
       "1      IWAE    2  0.5113\n",
       "2      IWAE    3  0.5040\n",
       "3      IWAE    1  0.4909\n",
       "4      IWAE    2  0.5131\n",
       "...     ...  ...     ...\n",
       "2995  DPGAN    2  0.5995\n",
       "2996  DPGAN    3  0.4859\n",
       "2997  DPGAN    1  0.4613\n",
       "2998  DPGAN    2  0.6010\n",
       "2999  DPGAN    3  0.5148\n",
       "\n",
       "[18000 rows x 3 columns]"
      ]
     },
     "execution_count": 55,
     "metadata": {},
     "output_type": "execute_result"
    }
   ],
   "source": [
    "name_format = {\"emrwgan\":\"EMR-WGAN\", \"medgan\":\"medGAN\", \"medbgan\":\"medBGAN\",\"medwgan\":\"medWGAN\",\"dpgan\":\"DPGAN\",\"iwae\":\"IWAE\"}\n",
    "res[\"Model\"] = res[\"Model\"].apply(lambda x: x.replace(x, name_format[x]))\n",
    "res"
   ]
  },
  {
   "cell_type": "code",
   "execution_count": 56,
   "metadata": {},
   "outputs": [
    {
     "name": "stdout",
     "output_type": "stream",
     "text": [
      "EMR-WGAN, run 1: 0.697(0.669,0.723)\n",
      "EMR-WGAN, run 2: 0.732(0.704,0.757)\n",
      "EMR-WGAN, run 3: 0.638(0.612,0.666)\n",
      "medGAN, run 1: 0.704(0.679,0.728)\n",
      "medGAN, run 2: 0.516(0.483,0.546)\n",
      "medGAN, run 3: 0.7(0.672,0.728)\n",
      "medBGAN, run 1: 0.528(0.499,0.561)\n",
      "medBGAN, run 2: 0.542(0.516,0.568)\n",
      "medBGAN, run 3: 0.624(0.59,0.655)\n",
      "medWGAN, run 1: 0.595(0.564,0.625)\n",
      "medWGAN, run 2: 0.61(0.581,0.639)\n",
      "medWGAN, run 3: 0.672(0.643,0.704)\n",
      "DPGAN, run 1: 0.453(0.424,0.483)\n",
      "DPGAN, run 2: 0.586(0.558,0.614)\n",
      "DPGAN, run 3: 0.501(0.473,0.53)\n",
      "IWAE, run 1: 0.512(0.484,0.541)\n",
      "IWAE, run 2: 0.501(0.472,0.531)\n",
      "IWAE, run 3: 0.509(0.479,0.538)\n"
     ]
    }
   ],
   "source": [
    "# get 95% CI of each model each run\n",
    "CI = pd.DataFrame()\n",
    "for model in name_format.values():\n",
    "    for run in range(1,4):\n",
    "        score_l = list(res[(res[\"Model\"] == model)&(res[\"Run\"] == run)][\"AUROC\"])\n",
    "        lower_p = 2.5\n",
    "        upper_p =97.5\n",
    "        low = round(np.percentile(score_l,lower_p),3)\n",
    "        up = round(np.percentile(score_l,upper_p),3)\n",
    "        mean = round(sum(score_l) / len(score_l),3)\n",
    "        print(f\"{model}, run {run}: {mean}({low},{up})\")"
   ]
  },
  {
   "cell_type": "code",
   "execution_count": 57,
   "metadata": {},
   "outputs": [
    {
     "name": "stdout",
     "output_type": "stream",
     "text": [
      "EMR-WGAN, run 3: 0.689(0.616,0.751)\n",
      "medGAN, run 3: 0.64(0.492,0.727)\n",
      "medBGAN, run 3: 0.565(0.506,0.646)\n",
      "medWGAN, run 3: 0.626(0.571,0.695)\n",
      "DPGAN, run 3: 0.513(0.433,0.607)\n",
      "IWAE, run 3: 0.508(0.476,0.538)\n"
     ]
    }
   ],
   "source": [
    "CI = pd.DataFrame()\n",
    "for model in name_format.values():\n",
    "    score_l = list(res[(res[\"Model\"] == model)][\"AUROC\"])\n",
    "    lower_p = 2.5\n",
    "    upper_p =97.5\n",
    "    low = round(np.percentile(score_l,lower_p),3)\n",
    "    up = round(np.percentile(score_l,upper_p),3)\n",
    "\n",
    "    mean = round(sum(score_l) / len(score_l),3)\n",
    "    print(f\"{model}, run {run}: {mean}({low},{up})\")"
   ]
  },
  {
   "cell_type": "code",
   "execution_count": 60,
   "metadata": {},
   "outputs": [
    {
     "name": "stderr",
     "output_type": "stream",
     "text": [
      "The PostScript backend does not support transparency; partially transparent artists will be rendered opaque.\n",
      "The PostScript backend does not support transparency; partially transparent artists will be rendered opaque.\n",
      "The PostScript backend does not support transparency; partially transparent artists will be rendered opaque.\n",
      "The PostScript backend does not support transparency; partially transparent artists will be rendered opaque.\n"
     ]
    },
    {
     "data": {
      "text/plain": [
       "<Figure size 432x288 with 0 Axes>"
      ]
     },
     "metadata": {},
     "output_type": "display_data"
    },
    {
     "data": {
      "image/png": "[encoded data removed]",
      "text/plain": [
       "<Figure size 288x432 with 1 Axes>"
      ]
     },
     "metadata": {
      "needs_background": "light"
     },
     "output_type": "display_data"
    }
   ],
   "source": [
    "plt.figure()\n",
    "## plot model performance on different dataset version\n",
    "plt.figure(figsize=(4,6))\n",
    "y = np.arange(1,20)\n",
    "x = np.arange(1,5)\n",
    "#sns.set(font_scale = 3)\n",
    "ax = sns.boxplot(x='AUROC',y='Model',hue='Run', data = res, fliersize=1,linewidth = 0.3,width=0.4 )\n",
    "sns.despine(offset=20, trim=True)\n",
    "#ax = sns.swarmplot(x='Team', y='AUROC',hue='measurement_group', data = score_list[0],color=\"grey\",size =2)\n",
    "#ax = sns.scatterplot(x='bin', y='rt_mean',color=\"red\", data = rt_mean)\n",
    "plt.ylabel('Teams',size=10)\n",
    "plt.xlabel('AUROC',size=10)\n",
    "#plt.legend(prop={'size':8})\n",
    "plt.xticks(fontsize=8)\n",
    "plt.yticks(fontsize=8)\n",
    "plt.xticks(np.arange(0.4,0.9,0.05))\n",
    "plt.xlim(0.4,0.90)\n",
    "plt.title('Performance of models trained on 30% real data and tested on synthetic data',size=8 )\n",
    "plt.savefig('./r_30_train_s_test.eps',bbox_inches='tight', format='eps')   "
   ]
  },
  {
   "cell_type": "code",
   "execution_count": 61,
   "metadata": {},
   "outputs": [
    {
     "name": "stderr",
     "output_type": "stream",
     "text": [
      "/data/users/yanyao/myproj/synpuf/venv/lib64/python3.6/site-packages/ipykernel_launcher.py:7: SettingWithCopyWarning: \n",
      "A value is trying to be set on a copy of a slice from a DataFrame.\n",
      "Try using .loc[row_indexer,col_indexer] = value instead\n",
      "\n",
      "See the caveats in the documentation: https://pandas.pydata.org/pandas-docs/stable/user_guide/indexing.html#returning-a-view-versus-a-copy\n",
      "  import sys\n",
      "/data/users/yanyao/myproj/synpuf/venv/lib64/python3.6/site-packages/pandas/core/frame.py:3997: SettingWithCopyWarning: \n",
      "A value is trying to be set on a copy of a slice from a DataFrame\n",
      "\n",
      "See the caveats in the documentation: https://pandas.pydata.org/pandas-docs/stable/user_guide/indexing.html#returning-a-view-versus-a-copy\n",
      "  errors=errors,\n"
     ]
    },
    {
     "data": {
      "text/html": [
       "<div>\n",
       "<style scoped>\n",
       "    .dataframe tbody tr th:only-of-type {\n",
       "        vertical-align: middle;\n",
       "    }\n",
       "\n",
       "    .dataframe tbody tr th {\n",
       "        vertical-align: top;\n",
       "    }\n",
       "\n",
       "    .dataframe thead th {\n",
       "        text-align: right;\n",
       "    }\n",
       "</style>\n",
       "<table border=\"1\" class=\"dataframe\">\n",
       "  <thead>\n",
       "    <tr style=\"text-align: right;\">\n",
       "      <th></th>\n",
       "      <th>Model</th>\n",
       "      <th>AUROC</th>\n",
       "      <th>Data type</th>\n",
       "    </tr>\n",
       "  </thead>\n",
       "  <tbody>\n",
       "    <tr>\n",
       "      <th>0</th>\n",
       "      <td>IWAE</td>\n",
       "      <td>0.5168</td>\n",
       "      <td>Synthetic</td>\n",
       "    </tr>\n",
       "    <tr>\n",
       "      <th>3</th>\n",
       "      <td>IWAE</td>\n",
       "      <td>0.4909</td>\n",
       "      <td>Synthetic</td>\n",
       "    </tr>\n",
       "    <tr>\n",
       "      <th>6</th>\n",
       "      <td>IWAE</td>\n",
       "      <td>0.5210</td>\n",
       "      <td>Synthetic</td>\n",
       "    </tr>\n",
       "    <tr>\n",
       "      <th>9</th>\n",
       "      <td>IWAE</td>\n",
       "      <td>0.5201</td>\n",
       "      <td>Synthetic</td>\n",
       "    </tr>\n",
       "    <tr>\n",
       "      <th>12</th>\n",
       "      <td>IWAE</td>\n",
       "      <td>0.5103</td>\n",
       "      <td>Synthetic</td>\n",
       "    </tr>\n",
       "    <tr>\n",
       "      <th>...</th>\n",
       "      <td>...</td>\n",
       "      <td>...</td>\n",
       "      <td>...</td>\n",
       "    </tr>\n",
       "    <tr>\n",
       "      <th>995</th>\n",
       "      <td>Real</td>\n",
       "      <td>0.7946</td>\n",
       "      <td>Real</td>\n",
       "    </tr>\n",
       "    <tr>\n",
       "      <th>996</th>\n",
       "      <td>Real</td>\n",
       "      <td>0.7856</td>\n",
       "      <td>Real</td>\n",
       "    </tr>\n",
       "    <tr>\n",
       "      <th>997</th>\n",
       "      <td>Real</td>\n",
       "      <td>0.7823</td>\n",
       "      <td>Real</td>\n",
       "    </tr>\n",
       "    <tr>\n",
       "      <th>998</th>\n",
       "      <td>Real</td>\n",
       "      <td>0.7767</td>\n",
       "      <td>Real</td>\n",
       "    </tr>\n",
       "    <tr>\n",
       "      <th>999</th>\n",
       "      <td>Real</td>\n",
       "      <td>0.7587</td>\n",
       "      <td>Real</td>\n",
       "    </tr>\n",
       "  </tbody>\n",
       "</table>\n",
       "<p>7000 rows × 3 columns</p>\n",
       "</div>"
      ],
      "text/plain": [
       "    Model   AUROC  Data type\n",
       "0    IWAE  0.5168  Synthetic\n",
       "3    IWAE  0.4909  Synthetic\n",
       "6    IWAE  0.5210  Synthetic\n",
       "9    IWAE  0.5201  Synthetic\n",
       "12   IWAE  0.5103  Synthetic\n",
       "..    ...     ...        ...\n",
       "995  Real  0.7946       Real\n",
       "996  Real  0.7856       Real\n",
       "997  Real  0.7823       Real\n",
       "998  Real  0.7767       Real\n",
       "999  Real  0.7587       Real\n",
       "\n",
       "[7000 rows x 3 columns]"
      ]
     },
     "execution_count": 61,
     "metadata": {},
     "output_type": "execute_result"
    }
   ],
   "source": [
    "## special plot for the amia abstract submission, only takes the first run\n",
    "res_1 = res[res[\"Run\"] ==1]\n",
    "# real_score_30_70\n",
    "real_result = pd.DataFrame(real_score_30_70,columns = [\"AUROC\"])\n",
    "real_result[\"Model\"] = \"Real\"\n",
    "real_result[\"Data type\"] = \"Real\"\n",
    "res_1[\"Data type\"] = \"Synthetic\"\n",
    "res_1.drop(columns = [\"Run\"],inplace = True)\n",
    "res_1 = pd.concat([res_1,real_result],axis=0)\n",
    "res_1"
   ]
  },
  {
   "cell_type": "code",
   "execution_count": 64,
   "metadata": {},
   "outputs": [
    {
     "name": "stderr",
     "output_type": "stream",
     "text": [
      "The PostScript backend does not support transparency; partially transparent artists will be rendered opaque.\n",
      "The PostScript backend does not support transparency; partially transparent artists will be rendered opaque.\n",
      "The PostScript backend does not support transparency; partially transparent artists will be rendered opaque.\n",
      "The PostScript backend does not support transparency; partially transparent artists will be rendered opaque.\n"
     ]
    },
    {
     "data": {
      "text/plain": [
       "<Figure size 432x288 with 0 Axes>"
      ]
     },
     "metadata": {},
     "output_type": "display_data"
    },
    {
     "data": {
      "image/png": "[encoded data removed]",
      "text/plain": [
       "<Figure size 288x216 with 1 Axes>"
      ]
     },
     "metadata": {
      "needs_background": "light"
     },
     "output_type": "display_data"
    }
   ],
   "source": [
    "plt.figure()\n",
    "## plot model performance on different dataset version\n",
    "plt.figure(figsize=(4,3))\n",
    "y = np.arange(1,20)\n",
    "x = np.arange(1,5)\n",
    "#sns.set(font_scale = 3)\n",
    "ax = sns.boxplot(x='AUROC',y='Model', data = res_1,hue=\"Data type\", fliersize=1,linewidth = 0.3,width=0.4 )\n",
    "sns.despine(offset=20, trim=True)\n",
    "#ax = sns.swarmplot(x='Team', y='AUROC',hue='measurement_group', data = score_list[0],color=\"grey\",size =2)\n",
    "#ax = sns.scatterplot(x='bin', y='rt_mean',color=\"red\", data = rt_mean)\n",
    "plt.ylabel('Teams',size=10)\n",
    "plt.xlabel('AUROC',size=10)\n",
    "plt.legend(prop={'size':8})\n",
    "plt.xticks(fontsize=8)\n",
    "plt.yticks(fontsize=8)\n",
    "plt.xticks(np.arange(0.4,0.9,0.1))\n",
    "plt.xlim(0.4,0.90)\n",
    "plt.title('Performance of models trained on 30% real data and tested on synthetic data',size=8 )\n",
    "plt.savefig('./r_30_train_s_test_amia.eps',bbox_inches='tight', format='eps')   "
   ]
  }
 ],
 "metadata": {
  "kernelspec": {
   "display_name": "Python 3",
   "language": "python",
   "name": "python3"
  },
  "language_info": {
   "codemirror_mode": {
    "name": "ipython",
    "version": 3
   },
   "file_extension": ".py",
   "mimetype": "text/x-python",
   "name": "python",
   "nbconvert_exporter": "python",
   "pygments_lexer": "ipython3",
   "version": "3.6.9"
  }
 },
 "nbformat": 4,
 "nbformat_minor": 4
}
