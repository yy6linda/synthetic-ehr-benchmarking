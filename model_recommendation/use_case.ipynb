{
 "cells": [
  {
   "cell_type": "code",
   "execution_count": 18,
   "metadata": {},
   "outputs": [],
   "source": [
    "import pandas as pd\n",
    "import numpy as np"
   ]
  },
  {
   "cell_type": "code",
   "execution_count": 19,
   "metadata": {},
   "outputs": [],
   "source": [
    "rank = pd.read_csv(\"./rank_utility_privacy.csv\", skipinitialspace=True)"
   ]
  },
  {
   "cell_type": "code",
   "execution_count": 58,
   "metadata": {},
   "outputs": [],
   "source": [
    "def use_case(data_list,weight_list,rank):\n",
    "    final_rank = []\n",
    "    model_list = [\"Baseline\",\"medGAN\",\"medBGAN\",\"EMR-WGAN\",\"WGAN\",\"DPGAN\"]\n",
    "    for model in model_list:\n",
    "        total_rank = 0\n",
    "        for data in data_list:\n",
    "            rank_list = list(rank[rank[\"data\"].isin([data])][[f\"{model}_1\",f\"{model}_2\",f\"{model}_3\"]].sum(axis=1).reset_index(drop=True))\n",
    "            rank_list = [round(i/3,1) for i in rank_list]\n",
    "            #print(f\"model: {model},{rank_list}\")\n",
    "            \n",
    "            total_rank += sum(np.multiply(weight_list,rank_list))\n",
    "        \n",
    "        final_rank.append(round(total_rank,2))\n",
    "    #print(final_rank)\n",
    "    order = [sorted(final_rank).index(x) for x in final_rank]\n",
    "    print([x for _, x in sorted(zip(order, final_rank))])\n",
    "    print([x for _, x in sorted(zip(order, model_list))])\n",
    "                     "
   ]
  },
  {
   "cell_type": "code",
   "execution_count": 64,
   "metadata": {},
   "outputs": [],
   "source": [
    "# [w_correlation,w_log,w_prediction,w_feature, w_violation, w_attr,w_mem,w_reid, w_pairwise]\n",
    "#system design: \n",
    "#weight_list = [0.05,0.05,0.05,0.05,0.05,1/6,1/6,1/6,0.25]\n",
    "# EHR challenges: \n",
    "#weight_list = [0.05,0.05,0.35,0.15,0.05,0.1,0.1,0.1,0.05]\n",
    "# education\n",
    "weight_list= [0.15,0.1,0.1,0.1,0.15,0.05,0.05,0.05,0.25]\n",
    "\n",
    "\n",
    "\n",
    "\n",
    "\n",
    "#data_list = [\"uw_combined\"]\n",
    "#data_list = [\"vumc\"]\n",
    "data_list = [\"uw_separate\"]"
   ]
  },
  {
   "cell_type": "code",
   "execution_count": 65,
   "metadata": {},
   "outputs": [
    {
     "data": {
      "text/plain": [
       "1.0"
      ]
     },
     "execution_count": 65,
     "metadata": {},
     "output_type": "execute_result"
    }
   ],
   "source": [
    "sum(weight_list)"
   ]
  },
  {
   "cell_type": "code",
   "execution_count": 66,
   "metadata": {},
   "outputs": [
    {
     "name": "stdout",
     "output_type": "stream",
     "text": [
      "[5.0, 7.01, 7.88, 10.54, 11.66, 14.92]\n",
      "['EMR-WGAN', 'Baseline', 'medBGAN', 'WGAN', 'medGAN', 'DPGAN']\n"
     ]
    }
   ],
   "source": [
    "use_case(data_list,weight_list,rank)"
   ]
  },
  {
   "cell_type": "code",
   "execution_count": 74,
   "metadata": {},
   "outputs": [],
   "source": [
    "# UW internal comparison"
   ]
  },
  {
   "cell_type": "code",
   "execution_count": 75,
   "metadata": {},
   "outputs": [],
   "source": [
    "rank = pd.read_csv(\"./rank_utility_privacy_UW.csv\", skipinitialspace=True)"
   ]
  },
  {
   "cell_type": "code",
   "execution_count": 76,
   "metadata": {},
   "outputs": [],
   "source": [
    "def use_case(data_list,weight_list,rank):\n",
    "    final_rank = dict()\n",
    "    model_list = [\"Baseline\",\"medGAN\",\"medBGAN\",\"EMR-WGAN\",\"WGAN\",\"DPGAN\"]\n",
    "    for model in model_list:\n",
    "        for data in data_list:\n",
    "            \n",
    "            rank_list = list(rank[rank[\"data\"].isin([data])][[f\"{model}_1\",f\"{model}_2\",f\"{model}_3\"]].sum(axis=1).reset_index(drop=True))\n",
    "            rank_list = [round(i/3,1) for i in rank_list]\n",
    "            print(rank_list)\n",
    "            total_rank = sum(np.multiply(weight_list,rank_list))\n",
    "            final_rank[f\"{model}_{data}\"] = round(total_rank,2)\n",
    "    \n",
    "    new = {k: v for k, v in sorted(final_rank.items(), key=lambda item: item[1])}\n",
    "    print(new)\n",
    "    print(\"**************\")\n",
    "    #print(new.keys())\n",
    "    "
   ]
  },
  {
   "cell_type": "code",
   "execution_count": 81,
   "metadata": {},
   "outputs": [],
   "source": [
    "# [w_correlation,w_log,w_prediction,w_feature, w_violation, w_attr,w_mem,w_reid, w_pairwise]\n",
    "# system design: [0.05,0.05,0.05,0.05,0.05,1/6,1/6,1/6,0.25]\n",
    "# EHR challenges: [0.05,0.05,0.35,0.15,0.05,0.1,0.1,0.1,0.05]\n",
    "# educational : \n",
    "\n",
    "weight_list = [0.05,0.05,0.35,0.15,0.05,0.1,0.1,0.1,0.05]\n",
    "data_list = [\"uw_combined\",\"uw_separate\"]"
   ]
  },
  {
   "cell_type": "code",
   "execution_count": 82,
   "metadata": {},
   "outputs": [
    {
     "name": "stdout",
     "output_type": "stream",
     "text": [
      "[18.0, 28.0, 34.0, 25.5, 31.7, 13.0, 6.5, 12.0, 4.0]\n",
      "[10.0, 21.0, 8.7, 12.5, 28.0, 17.2, 6.5, 13.0, 3.0]\n",
      "[22.7, 20.3, 23.3, 25.3, 20.7, 12.0, 17.5, 14.0, 26.0]\n",
      "[24.0, 23.0, 23.7, 20.3, 17.3, 16.3, 12.7, 19.7, 24.7]\n",
      "[13.0, 12.7, 22.0, 16.2, 11.0, 23.0, 18.3, 21.3, 16.7]\n",
      "[11.7, 8.0, 15.0, 13.5, 13.7, 21.8, 19.7, 20.0, 14.3]\n",
      "[4.0, 2.7, 5.0, 5.3, 2.3, 34.2, 34.7, 30.8, 9.8]\n",
      "[3.0, 4.3, 2.0, 2.0, 5.3, 32.8, 32.3, 32.8, 9.2]\n",
      "[27.3, 20.0, 15.7, 23.0, 24.7, 5.0, 20.0, 32.3, 25.7]\n",
      "[21.3, 15.0, 14.0, 16.0, 21.0, 15.7, 29.0, 19.0, 21.7]\n",
      "[32.0, 35.0, 31.3, 34.0, 11.7, 27.7, 6.5, 2.0, 35.0]\n",
      "[35.0, 32.0, 26.7, 28.3, 34.7, 3.3, 18.3, 5.0, 32.0]\n",
      "{'Baseline_uw_separate': 11.69, 'EMR-WGAN_uw_separate': 11.88, 'EMR-WGAN_uw_combined': 13.46, 'medBGAN_uw_separate': 15.81, 'WGAN_uw_separate': 17.62, 'medBGAN_uw_combined': 19.06, 'WGAN_uw_combined': 19.56, 'medGAN_uw_separate': 20.66, 'medGAN_uw_combined': 20.78, 'DPGAN_uw_separate': 22.93, 'Baseline_uw_combined': 22.96, 'DPGAN_uw_combined': 25.36}\n",
      "**************\n"
     ]
    }
   ],
   "source": [
    "use_case(data_list,weight_list,rank)"
   ]
  },
  {
   "cell_type": "code",
   "execution_count": null,
   "metadata": {},
   "outputs": [],
   "source": []
  },
  {
   "cell_type": "code",
   "execution_count": null,
   "metadata": {},
   "outputs": [],
   "source": [
    "# VUMC\n",
    "[23.75, 25.05, 25.25, 25.95, 32.25, 34.099999999999994]\n",
    "['medWGAN', 'DPGAN', 'EMR-WGAN', 'medGAN', 'medBGAN', 'IWAE']\n",
    "# UW\n",
    "[19.1, 25.55, 26.349999999999998, 28.400000000000002, 31.9, 35.8]\n",
    "['EMR-WGAN', 'medBGAN', 'medWGAN', 'medGAN', 'IWAE', 'DPGAN']"
   ]
  }
 ],
 "metadata": {
  "kernelspec": {
   "display_name": "Python 3",
   "language": "python",
   "name": "python3"
  },
  "language_info": {
   "codemirror_mode": {
    "name": "ipython",
    "version": 3
   },
   "file_extension": ".py",
   "mimetype": "text/x-python",
   "name": "python",
   "nbconvert_exporter": "python",
   "pygments_lexer": "ipython3",
   "version": "3.7.6"
  }
 },
 "nbformat": 4,
 "nbformat_minor": 4
}
