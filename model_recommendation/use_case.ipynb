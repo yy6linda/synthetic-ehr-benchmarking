{
 "cells": [
  {
   "cell_type": "code",
   "execution_count": 59,
   "metadata": {},
   "outputs": [],
   "source": [
    "import pandas as pd\n",
    "import numpy as np"
   ]
  },
  {
   "cell_type": "code",
   "execution_count": 60,
   "metadata": {},
   "outputs": [],
   "source": [
    "rank = pd.read_csv(\"./rank_utility_privacy.csv\", skipinitialspace=True)"
   ]
  },
  {
   "cell_type": "code",
   "execution_count": 61,
   "metadata": {},
   "outputs": [],
   "source": [
    "def use_case(data_list,weight_list,rank):\n",
    "    final_rank = []\n",
    "    model_list = [\"Baseline\",\"medGAN\",\"medBGAN\",\"EMR-WGAN\",\"WGAN\",\"DPGAN\"]\n",
    "    for model in model_list:\n",
    "        total_rank = 0\n",
    "        for data in data_list:\n",
    "            rank_list = list(rank[rank[\"data\"].isin([data])][[f\"{model}_1\",f\"{model}_2\",f\"{model}_3\"]].sum(axis=1).reset_index(drop=True))\n",
    "            rank_list = [round(i/3,1) for i in rank_list]\n",
    "            #print(f\"model: {model},{rank_list}\")\n",
    "            \n",
    "            total_rank += sum(np.multiply(weight_list,rank_list))\n",
    "        \n",
    "        final_rank.append(round(total_rank,2))\n",
    "    #print(final_rank)\n",
    "    order = [sorted(final_rank).index(x) for x in final_rank]\n",
    "    print([x for _, x in sorted(zip(order, final_rank))])\n",
    "    print([x for _, x in sorted(zip(order, model_list))])\n",
    "                     "
   ]
  },
  {
   "cell_type": "code",
   "execution_count": 62,
   "metadata": {},
   "outputs": [],
   "source": [
    "# [w_correlation,w_log,w_prediction,w_feature, w_violation, w_attr,w_mem,w_reid, w_pairwise]\n",
    "\n",
    "weights = dict()\n",
    "weights[\"system development\"] = [0.05,0.05,0.05,0.05,0.05,1/6,1/6,1/6,0.25]\n",
    "\n",
    "weights[\"medical AI development\"] = [0.05,0.05,0.35,0.15,0.05,0.1,0.1,0.1,0.05]\n",
    "\n",
    "weights[\"education\"]= [0.15,0.1,0.1,0.1,0.15,0.05,0.05,0.05,0.25]\n"
   ]
  },
  {
   "cell_type": "code",
   "execution_count": 63,
   "metadata": {},
   "outputs": [],
   "source": [
    "data_list = [\"uw_combined\"]"
   ]
  },
  {
   "cell_type": "code",
   "execution_count": 64,
   "metadata": {},
   "outputs": [
    {
     "name": "stdout",
     "output_type": "stream",
     "text": [
      "##############################\n",
      " For UW synthetic data generated under the combined synthesis, under system development use case\n",
      "[6.73, 8.94, 9.47, 9.95, 10.74, 11.17]\n",
      "['Baseline', 'medBGAN', 'medGAN', 'EMR-WGAN', 'WGAN', 'DPGAN']\n",
      "##############################\n",
      " For UW synthetic data generated under the combined synthesis, under medical AI development use case\n",
      "[6.47, 8.62, 8.87, 9.64, 11.06, 12.35]\n",
      "['EMR-WGAN', 'medBGAN', 'WGAN', 'medGAN', 'Baseline', 'DPGAN']\n",
      "##############################\n",
      " For UW synthetic data generated under the combined synthesis, under education use case\n",
      "[4.91, 7.65, 9.07, 10.64, 11.07, 13.64]\n",
      "['EMR-WGAN', 'medBGAN', 'Baseline', 'medGAN', 'WGAN', 'DPGAN']\n"
     ]
    }
   ],
   "source": [
    "for case in [\"system development\", \"medical AI development\", \"education\"]:\n",
    "    print(\"#\"*30)\n",
    "    print(f\" For UW synthetic data generated under the combined synthesis, under {case} use case\")\n",
    "    use_case(data_list,weights[case],rank)"
   ]
  },
  {
   "cell_type": "code",
   "execution_count": 65,
   "metadata": {},
   "outputs": [
    {
     "name": "stdout",
     "output_type": "stream",
     "text": [
      "##############################\n",
      " For VUMC synthetic data generated under the combined synthesis, under system development use case\n",
      "[6.86, 9.37, 9.63, 9.74, 10.01, 11.37]\n",
      "['Baseline', 'WGAN', 'medBGAN', 'medGAN', 'DPGAN', 'EMR-WGAN']\n",
      "##############################\n",
      " For VUMC synthetic data generated under the combined synthesis, under medical AI development use case\n",
      "[8.06, 8.66, 8.71, 8.88, 10.98, 11.69]\n",
      "['WGAN', 'DPGAN', 'EMR-WGAN', 'medGAN', 'medBGAN', 'Baseline']\n",
      "##############################\n",
      " For VUMC synthetic data generated under the combined synthesis, under education use case\n",
      "[6.1, 7.31, 10.25, 10.93, 11.1, 11.3]\n",
      "['WGAN', 'EMR-WGAN', 'medBGAN', 'DPGAN', 'Baseline', 'medGAN']\n"
     ]
    }
   ],
   "source": [
    "data_list = [\"vumc\"]\n",
    "for case in [\"system development\", \"medical AI development\", \"education\"]:\n",
    "    print(\"#\"*30)\n",
    "    print(f\" For VUMC synthetic data generated under the combined synthesis, under {case} use case\")\n",
    "    use_case(data_list,weights[case],rank)"
   ]
  },
  {
   "cell_type": "code",
   "execution_count": 66,
   "metadata": {},
   "outputs": [
    {
     "name": "stdout",
     "output_type": "stream",
     "text": [
      "##############################\n",
      " For UW synthetic data generated under the separate synthesis, under system development use case\n",
      "[5.83, 9.09, 10.25, 10.51, 10.54, 10.8]\n",
      "['Baseline', 'medBGAN', 'EMR-WGAN', 'medGAN', 'DPGAN', 'WGAN']\n",
      "##############################\n",
      " For UW synthetic data generated under the separate synthesis, under medical AI development use case\n",
      "[6.65, 6.82, 9.28, 10.02, 11.61, 12.67]\n",
      "['EMR-WGAN', 'Baseline', 'medBGAN', 'WGAN', 'medGAN', 'DPGAN']\n",
      "##############################\n",
      " For UW synthetic data generated under the separate synthesis, under education use case\n",
      "[5.0, 7.01, 7.88, 10.54, 11.66, 14.92]\n",
      "['EMR-WGAN', 'Baseline', 'medBGAN', 'WGAN', 'medGAN', 'DPGAN']\n"
     ]
    }
   ],
   "source": [
    "data_list = [\"uw_separate\"]\n",
    "for case in [\"system development\", \"medical AI development\", \"education\"]:\n",
    "    print(\"#\"*30)\n",
    "    print(f\" For UW synthetic data generated under the separate synthesis, under {case} use case\")\n",
    "    use_case(data_list,weights[case],rank)"
   ]
  },
  {
   "cell_type": "code",
   "execution_count": 67,
   "metadata": {},
   "outputs": [],
   "source": [
    "# UW internal comparison"
   ]
  },
  {
   "cell_type": "code",
   "execution_count": 68,
   "metadata": {},
   "outputs": [],
   "source": [
    "rank = pd.read_csv(\"./rank_utility_privacy_UW.csv\", skipinitialspace=True)"
   ]
  },
  {
   "cell_type": "code",
   "execution_count": 69,
   "metadata": {},
   "outputs": [],
   "source": [
    "def use_case(data_list,weight_list,rank):\n",
    "    final_rank = dict()\n",
    "    model_list = [\"Baseline\",\"medGAN\",\"medBGAN\",\"EMR-WGAN\",\"WGAN\",\"DPGAN\"]\n",
    "    for model in model_list:\n",
    "        for data in data_list:\n",
    "            \n",
    "            rank_list = list(rank[rank[\"data\"].isin([data])][[f\"{model}_1\",f\"{model}_2\",f\"{model}_3\"]].sum(axis=1).reset_index(drop=True))\n",
    "            rank_list = [round(i/3,1) for i in rank_list]\n",
    "            #print(rank_list)\n",
    "            total_rank = sum(np.multiply(weight_list,rank_list))\n",
    "            final_rank[f\"{model}_{data}\"] = round(total_rank,2)\n",
    "    \n",
    "    new = {k: v for k, v in sorted(final_rank.items(), key=lambda item: item[1])}\n",
    "    print(new)\n",
    "    print(\"**************\")\n",
    "    #print(new.keys())\n",
    "    "
   ]
  },
  {
   "cell_type": "code",
   "execution_count": 70,
   "metadata": {},
   "outputs": [],
   "source": [
    "# [w_correlation,w_log,w_prediction,w_feature, w_violation, w_attr,w_mem,w_reid, w_pairwise]\n",
    "weights = dict()\n",
    "weights[\"system development\"] = [0.05,0.05,0.05,0.05,0.05,1/6,1/6,1/6,0.25]\n",
    "\n",
    "weights[\"medical AI development\"] = [0.05,0.05,0.35,0.15,0.05,0.1,0.1,0.1,0.05]\n",
    "\n",
    "weights[\"education\"]= [0.15,0.1,0.1,0.1,0.15,0.05,0.05,0.05,0.25]\n",
    "\n",
    "data_list = [\"uw_combined\",\"uw_separate\"]"
   ]
  },
  {
   "cell_type": "code",
   "execution_count": 71,
   "metadata": {},
   "outputs": [
    {
     "name": "stdout",
     "output_type": "stream",
     "text": [
      "##############################\n",
      " Under system development use case\n",
      "{'Baseline_uw_separate': 10.88, 'Baseline_uw_combined': 13.11, 'medBGAN_uw_separate': 16.92, 'medBGAN_uw_combined': 18.35, 'medGAN_uw_combined': 19.36, 'EMR-WGAN_uw_separate': 19.45, 'medGAN_uw_separate': 19.71, 'EMR-WGAN_uw_combined': 20.03, 'DPGAN_uw_separate': 20.27, 'WGAN_uw_separate': 20.41, 'WGAN_uw_combined': 21.51, 'DPGAN_uw_combined': 21.98}\n",
      "**************\n",
      "##############################\n",
      " Under medical AI development use case\n",
      "{'Baseline_uw_separate': 11.69, 'EMR-WGAN_uw_separate': 11.88, 'EMR-WGAN_uw_combined': 13.46, 'medBGAN_uw_separate': 15.81, 'WGAN_uw_separate': 17.62, 'medBGAN_uw_combined': 19.06, 'WGAN_uw_combined': 19.56, 'medGAN_uw_separate': 20.66, 'medGAN_uw_combined': 20.78, 'DPGAN_uw_separate': 22.93, 'Baseline_uw_combined': 22.96, 'DPGAN_uw_combined': 25.36}\n",
      "**************\n",
      "##############################\n",
      " Under education use case\n",
      "{'EMR-WGAN_uw_separate': 9.27, 'EMR-WGAN_uw_combined': 9.68, 'Baseline_uw_separate': 12.5, 'medBGAN_uw_separate': 14.11, 'medBGAN_uw_combined': 15.99, 'Baseline_uw_combined': 18.78, 'WGAN_uw_separate': 19.46, 'medGAN_uw_separate': 21.5, 'medGAN_uw_combined': 22.08, 'WGAN_uw_combined': 22.96, 'DPGAN_uw_combined': 27.15, 'DPGAN_uw_separate': 28.48}\n",
      "**************\n"
     ]
    }
   ],
   "source": [
    "for case in [\"system development\", \"medical AI development\", \"education\"]:\n",
    "    print(\"#\"*30)\n",
    "    print(f\" Under {case} use case\")\n",
    "    use_case(data_list,weights[case],rank)\n"
   ]
  }
 ],
 "metadata": {
  "kernelspec": {
   "display_name": "Python 3",
   "language": "python",
   "name": "python3"
  },
  "language_info": {
   "codemirror_mode": {
    "name": "ipython",
    "version": 3
   },
   "file_extension": ".py",
   "mimetype": "text/x-python",
   "name": "python",
   "nbconvert_exporter": "python",
   "pygments_lexer": "ipython3",
   "version": "3.7.6"
  }
 },
 "nbformat": 4,
 "nbformat_minor": 4
}
